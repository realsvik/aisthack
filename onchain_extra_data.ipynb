{
 "cells": [
  {
   "cell_type": "code",
   "execution_count": 78,
   "metadata": {},
   "outputs": [],
   "source": [
    "import pandas as pd\n",
    "import time\n",
    "from datetime import datetime, timedelta\n",
    "from pytz import timezone\n",
    "from matplotlib import pyplot as plt\n",
    "%matplotlib inline\n",
    "import numpy as np\n",
    "import pickle"
   ]
  },
  {
   "cell_type": "code",
   "execution_count": 79,
   "metadata": {},
   "outputs": [],
   "source": [
    "import xgboost as xgb\n",
    "from sklearn.metrics import accuracy_score\n",
    "from sklearn.model_selection import cross_val_score\n",
    "from sklearn.metrics import classification_report"
   ]
  },
  {
   "cell_type": "code",
   "execution_count": 80,
   "metadata": {},
   "outputs": [],
   "source": [
    "ticker = 'TRX'\n",
    "delta = timedelta(hours=2)"
   ]
  },
  {
   "cell_type": "code",
   "execution_count": 81,
   "metadata": {},
   "outputs": [],
   "source": [
    "features_onchain_merged = pd.read_pickle(\"../pickles/features_onchain_merged_onchain_exchange.pickle\")"
   ]
  },
  {
   "cell_type": "code",
   "execution_count": 82,
   "metadata": {},
   "outputs": [],
   "source": [
    "onchain_burnrates = pd.read_csv(\"../data/train/burnrates_train.csv\")"
   ]
  },
  {
   "cell_type": "code",
   "execution_count": 83,
   "metadata": {},
   "outputs": [
    {
     "data": {
      "text/html": [
       "<div>\n",
       "<style scoped>\n",
       "    .dataframe tbody tr th:only-of-type {\n",
       "        vertical-align: middle;\n",
       "    }\n",
       "\n",
       "    .dataframe tbody tr th {\n",
       "        vertical-align: top;\n",
       "    }\n",
       "\n",
       "    .dataframe thead th {\n",
       "        text-align: right;\n",
       "    }\n",
       "</style>\n",
       "<table border=\"1\" class=\"dataframe\">\n",
       "  <thead>\n",
       "    <tr style=\"text-align: right;\">\n",
       "      <th></th>\n",
       "      <th>Unnamed: 0</th>\n",
       "      <th>burnRate</th>\n",
       "      <th>datetime</th>\n",
       "      <th>name</th>\n",
       "      <th>ticker</th>\n",
       "    </tr>\n",
       "  </thead>\n",
       "  <tbody>\n",
       "    <tr>\n",
       "      <th>0</th>\n",
       "      <td>0</td>\n",
       "      <td>1.081740e+11</td>\n",
       "      <td>2018-03-01T00:00:00Z</td>\n",
       "      <td>0x</td>\n",
       "      <td>ZRX</td>\n",
       "    </tr>\n",
       "    <tr>\n",
       "      <th>1</th>\n",
       "      <td>1</td>\n",
       "      <td>2.484295e+10</td>\n",
       "      <td>2018-03-01T02:00:00Z</td>\n",
       "      <td>0x</td>\n",
       "      <td>ZRX</td>\n",
       "    </tr>\n",
       "    <tr>\n",
       "      <th>2</th>\n",
       "      <td>2</td>\n",
       "      <td>2.679559e+09</td>\n",
       "      <td>2018-03-01T04:00:00Z</td>\n",
       "      <td>0x</td>\n",
       "      <td>ZRX</td>\n",
       "    </tr>\n",
       "    <tr>\n",
       "      <th>3</th>\n",
       "      <td>3</td>\n",
       "      <td>4.432177e+09</td>\n",
       "      <td>2018-03-01T06:00:00Z</td>\n",
       "      <td>0x</td>\n",
       "      <td>ZRX</td>\n",
       "    </tr>\n",
       "    <tr>\n",
       "      <th>4</th>\n",
       "      <td>4</td>\n",
       "      <td>1.293058e+10</td>\n",
       "      <td>2018-03-01T08:00:00Z</td>\n",
       "      <td>0x</td>\n",
       "      <td>ZRX</td>\n",
       "    </tr>\n",
       "  </tbody>\n",
       "</table>\n",
       "</div>"
      ],
      "text/plain": [
       "   Unnamed: 0      burnRate              datetime name ticker\n",
       "0           0  1.081740e+11  2018-03-01T00:00:00Z   0x    ZRX\n",
       "1           1  2.484295e+10  2018-03-01T02:00:00Z   0x    ZRX\n",
       "2           2  2.679559e+09  2018-03-01T04:00:00Z   0x    ZRX\n",
       "3           3  4.432177e+09  2018-03-01T06:00:00Z   0x    ZRX\n",
       "4           4  1.293058e+10  2018-03-01T08:00:00Z   0x    ZRX"
      ]
     },
     "execution_count": 83,
     "metadata": {},
     "output_type": "execute_result"
    }
   ],
   "source": [
    "onchain_burnrates.head()"
   ]
  },
  {
   "cell_type": "code",
   "execution_count": 84,
   "metadata": {},
   "outputs": [],
   "source": [
    "#onchain_burnrates['ticker'].unique()"
   ]
  },
  {
   "cell_type": "code",
   "execution_count": 85,
   "metadata": {},
   "outputs": [],
   "source": [
    "min_date = datetime.strptime(\"2018-03-01 00:00:00\",\"%Y-%m-%d %H:%M:%S\")"
   ]
  },
  {
   "cell_type": "code",
   "execution_count": 86,
   "metadata": {},
   "outputs": [
    {
     "name": "stdout",
     "output_type": "stream",
     "text": [
      "CPU times: user 3.73 s, sys: 3.9 ms, total: 3.73 s\n",
      "Wall time: 3.73 s\n"
     ]
    }
   ],
   "source": [
    "%%time\n",
    "news_dates = onchain_burnrates['datetime'].apply(lambda x: datetime.strptime(x,\"%Y-%m-%dT%H:%M:%SZ\"))\n",
    "onchain_burnrates['date_datetime'] = news_dates\n",
    "onchain_burnrates = onchain_burnrates.sort_values(by = 'date_datetime', ascending = True)\n"
   ]
  },
  {
   "cell_type": "code",
   "execution_count": 87,
   "metadata": {},
   "outputs": [
    {
     "name": "stdout",
     "output_type": "stream",
     "text": [
      "2018-03-01 00:00:00 2018-07-07 11:27:21.538705\n"
     ]
    }
   ],
   "source": [
    "def build_timeSlots(df, colname):\n",
    "    min_date = datetime.strptime(\"2018-03-01 00:00:00\",\"%Y-%m-%d %H:%M:%S\")\n",
    "    cur_date = min_date\n",
    "    max_date = datetime.now()\n",
    "    delta = timedelta(hours=2)\n",
    "    print min_date, max_date \n",
    "    tmpDict = {}\n",
    "    ll = []\n",
    "    \n",
    "    while cur_date < max_date:\n",
    "        indices = df[(df[colname]>=cur_date) & (df[colname]< cur_date + delta)].index\n",
    "        tmpDF = pd.DataFrame({'cur_date': cur_date, 'max_date': cur_date + delta}, index = indices)\n",
    "        #print cur_date, max_date\n",
    "        #print len(indices), tmpDF.shape[0]\n",
    "        #tmpDF = df[(df[colname]>=min_date) & (df[colname]< cur_date + delta)].copy()\n",
    "        if tmpDF.shape[0] == 0:\n",
    "            break;\n",
    "        cur_date = cur_date + delta\n",
    "        ll.append(tmpDF)\n",
    "    return ll\n",
    "result = build_timeSlots(onchain_burnrates, 'date_datetime')\n",
    "onchain_burnrates_with_timeslots =  pd.concat(result)"
   ]
  },
  {
   "cell_type": "code",
   "execution_count": 88,
   "metadata": {},
   "outputs": [
    {
     "data": {
      "text/plain": [
       "(215491, 2)"
      ]
     },
     "execution_count": 88,
     "metadata": {},
     "output_type": "execute_result"
    }
   ],
   "source": [
    "onchain_burnrates_with_timeslots.shape"
   ]
  },
  {
   "cell_type": "code",
   "execution_count": 89,
   "metadata": {},
   "outputs": [],
   "source": [
    "onchain_burnrates = onchain_burnrates[onchain_burnrates['date_datetime']>min_date]\n",
    "onchain_burnrates = onchain_burnrates.merge(onchain_burnrates_with_timeslots, left_index = True, right_index = True)"
   ]
  },
  {
   "cell_type": "code",
   "execution_count": 90,
   "metadata": {},
   "outputs": [
    {
     "data": {
      "text/html": [
       "<div>\n",
       "<style scoped>\n",
       "    .dataframe tbody tr th:only-of-type {\n",
       "        vertical-align: middle;\n",
       "    }\n",
       "\n",
       "    .dataframe tbody tr th {\n",
       "        vertical-align: top;\n",
       "    }\n",
       "\n",
       "    .dataframe thead th {\n",
       "        text-align: right;\n",
       "    }\n",
       "</style>\n",
       "<table border=\"1\" class=\"dataframe\">\n",
       "  <thead>\n",
       "    <tr style=\"text-align: right;\">\n",
       "      <th></th>\n",
       "      <th>Unnamed: 0</th>\n",
       "      <th>burnRate</th>\n",
       "      <th>datetime</th>\n",
       "      <th>name</th>\n",
       "      <th>ticker</th>\n",
       "      <th>date_datetime</th>\n",
       "      <th>cur_date</th>\n",
       "      <th>max_date</th>\n",
       "    </tr>\n",
       "  </thead>\n",
       "  <tbody>\n",
       "    <tr>\n",
       "      <th>3405</th>\n",
       "      <td>1</td>\n",
       "      <td>4.624551e+09</td>\n",
       "      <td>2018-03-01T02:00:00Z</td>\n",
       "      <td>Aditus</td>\n",
       "      <td>ADI</td>\n",
       "      <td>2018-03-01 02:00:00</td>\n",
       "      <td>2018-03-01 02:00:00</td>\n",
       "      <td>2018-03-01 04:00:00</td>\n",
       "    </tr>\n",
       "    <tr>\n",
       "      <th>7552</th>\n",
       "      <td>1</td>\n",
       "      <td>7.060660e+07</td>\n",
       "      <td>2018-03-01T02:00:00Z</td>\n",
       "      <td>Aion</td>\n",
       "      <td>AION</td>\n",
       "      <td>2018-03-01 02:00:00</td>\n",
       "      <td>2018-03-01 02:00:00</td>\n",
       "      <td>2018-03-01 04:00:00</td>\n",
       "    </tr>\n",
       "    <tr>\n",
       "      <th>77904</th>\n",
       "      <td>1</td>\n",
       "      <td>2.561146e+08</td>\n",
       "      <td>2018-03-01T02:00:00Z</td>\n",
       "      <td>Envion</td>\n",
       "      <td>EVN</td>\n",
       "      <td>2018-03-01 02:00:00</td>\n",
       "      <td>2018-03-01 02:00:00</td>\n",
       "      <td>2018-03-01 04:00:00</td>\n",
       "    </tr>\n",
       "    <tr>\n",
       "      <th>126862</th>\n",
       "      <td>1</td>\n",
       "      <td>2.633369e+11</td>\n",
       "      <td>2018-03-01T02:00:00Z</td>\n",
       "      <td>MARK.SPACE</td>\n",
       "      <td>MRK</td>\n",
       "      <td>2018-03-01 02:00:00</td>\n",
       "      <td>2018-03-01 02:00:00</td>\n",
       "      <td>2018-03-01 04:00:00</td>\n",
       "    </tr>\n",
       "    <tr>\n",
       "      <th>181866</th>\n",
       "      <td>1</td>\n",
       "      <td>5.850850e+09</td>\n",
       "      <td>2018-03-01T02:00:00Z</td>\n",
       "      <td>Spectre.ai Dividend Token</td>\n",
       "      <td>SXDT</td>\n",
       "      <td>2018-03-01 02:00:00</td>\n",
       "      <td>2018-03-01 02:00:00</td>\n",
       "      <td>2018-03-01 04:00:00</td>\n",
       "    </tr>\n",
       "  </tbody>\n",
       "</table>\n",
       "</div>"
      ],
      "text/plain": [
       "        Unnamed: 0      burnRate              datetime  \\\n",
       "3405             1  4.624551e+09  2018-03-01T02:00:00Z   \n",
       "7552             1  7.060660e+07  2018-03-01T02:00:00Z   \n",
       "77904            1  2.561146e+08  2018-03-01T02:00:00Z   \n",
       "126862           1  2.633369e+11  2018-03-01T02:00:00Z   \n",
       "181866           1  5.850850e+09  2018-03-01T02:00:00Z   \n",
       "\n",
       "                             name ticker       date_datetime  \\\n",
       "3405                       Aditus    ADI 2018-03-01 02:00:00   \n",
       "7552                         Aion   AION 2018-03-01 02:00:00   \n",
       "77904                      Envion    EVN 2018-03-01 02:00:00   \n",
       "126862                 MARK.SPACE    MRK 2018-03-01 02:00:00   \n",
       "181866  Spectre.ai Dividend Token   SXDT 2018-03-01 02:00:00   \n",
       "\n",
       "                  cur_date            max_date  \n",
       "3405   2018-03-01 02:00:00 2018-03-01 04:00:00  \n",
       "7552   2018-03-01 02:00:00 2018-03-01 04:00:00  \n",
       "77904  2018-03-01 02:00:00 2018-03-01 04:00:00  \n",
       "126862 2018-03-01 02:00:00 2018-03-01 04:00:00  \n",
       "181866 2018-03-01 02:00:00 2018-03-01 04:00:00  "
      ]
     },
     "execution_count": 90,
     "metadata": {},
     "output_type": "execute_result"
    }
   ],
   "source": [
    "onchain_burnrates.head()"
   ]
  },
  {
   "cell_type": "code",
   "execution_count": 91,
   "metadata": {},
   "outputs": [],
   "source": [
    "onchain_burnrates_ticker = onchain_burnrates[onchain_burnrates['ticker'] == ticker][['burnRate']].copy()"
   ]
  },
  {
   "cell_type": "code",
   "execution_count": 92,
   "metadata": {},
   "outputs": [],
   "source": [
    "onchain_burnrates_ticker.reset_index(inplace = True);"
   ]
  },
  {
   "cell_type": "code",
   "execution_count": 93,
   "metadata": {},
   "outputs": [],
   "source": [
    "features_onchain_merged = features_onchain_merged.merge(onchain_burnrates_ticker, left_index = True, right_index = True)"
   ]
  },
  {
   "cell_type": "code",
   "execution_count": 94,
   "metadata": {},
   "outputs": [
    {
     "data": {
      "text/html": [
       "<div>\n",
       "<style scoped>\n",
       "    .dataframe tbody tr th:only-of-type {\n",
       "        vertical-align: middle;\n",
       "    }\n",
       "\n",
       "    .dataframe tbody tr th {\n",
       "        vertical-align: top;\n",
       "    }\n",
       "\n",
       "    .dataframe thead th {\n",
       "        text-align: right;\n",
       "    }\n",
       "</style>\n",
       "<table border=\"1\" class=\"dataframe\">\n",
       "  <thead>\n",
       "    <tr style=\"text-align: right;\">\n",
       "      <th></th>\n",
       "      <th>volume_normalised</th>\n",
       "      <th>btc_to_usd</th>\n",
       "      <th>btc_slot_to_prev_perc</th>\n",
       "      <th>market_volume_per_slot</th>\n",
       "      <th>volume_normalised_6</th>\n",
       "      <th>volume_normalised_12</th>\n",
       "      <th>volume_normalised_18</th>\n",
       "      <th>volume_normalised_24</th>\n",
       "      <th>volume_normalised_48</th>\n",
       "      <th>btc_to_usd_6</th>\n",
       "      <th>...</th>\n",
       "      <th>c5aa4_to_18</th>\n",
       "      <th>c5aa4_to_24</th>\n",
       "      <th>c5aa4_to_48</th>\n",
       "      <th>e40a7_to_6</th>\n",
       "      <th>e40a7_to_12</th>\n",
       "      <th>e40a7_to_18</th>\n",
       "      <th>e40a7_to_24</th>\n",
       "      <th>e40a7_to_48</th>\n",
       "      <th>index</th>\n",
       "      <th>burnRate</th>\n",
       "    </tr>\n",
       "  </thead>\n",
       "  <tbody>\n",
       "    <tr>\n",
       "      <th>0</th>\n",
       "      <td>-0.351911</td>\n",
       "      <td>1.474317</td>\n",
       "      <td>1.000000</td>\n",
       "      <td>-0.459336</td>\n",
       "      <td>-0.351911</td>\n",
       "      <td>-0.351911</td>\n",
       "      <td>-0.351911</td>\n",
       "      <td>-0.351911</td>\n",
       "      <td>-0.351911</td>\n",
       "      <td>1.474317</td>\n",
       "      <td>...</td>\n",
       "      <td>0.0</td>\n",
       "      <td>0.0</td>\n",
       "      <td>0.0</td>\n",
       "      <td>0.0</td>\n",
       "      <td>0.0</td>\n",
       "      <td>0.0</td>\n",
       "      <td>0.0</td>\n",
       "      <td>0.0</td>\n",
       "      <td>199837</td>\n",
       "      <td>6.068921e+14</td>\n",
       "    </tr>\n",
       "    <tr>\n",
       "      <th>1</th>\n",
       "      <td>-0.346060</td>\n",
       "      <td>1.489017</td>\n",
       "      <td>-0.304490</td>\n",
       "      <td>-0.193284</td>\n",
       "      <td>-0.348985</td>\n",
       "      <td>-0.348985</td>\n",
       "      <td>-0.348985</td>\n",
       "      <td>-0.348985</td>\n",
       "      <td>-0.348985</td>\n",
       "      <td>1.481667</td>\n",
       "      <td>...</td>\n",
       "      <td>0.0</td>\n",
       "      <td>0.0</td>\n",
       "      <td>0.0</td>\n",
       "      <td>0.0</td>\n",
       "      <td>0.0</td>\n",
       "      <td>0.0</td>\n",
       "      <td>0.0</td>\n",
       "      <td>0.0</td>\n",
       "      <td>199838</td>\n",
       "      <td>1.888692e+12</td>\n",
       "    </tr>\n",
       "    <tr>\n",
       "      <th>2</th>\n",
       "      <td>-0.335162</td>\n",
       "      <td>1.527841</td>\n",
       "      <td>0.226330</td>\n",
       "      <td>2.820123</td>\n",
       "      <td>-0.344378</td>\n",
       "      <td>-0.344378</td>\n",
       "      <td>-0.344378</td>\n",
       "      <td>-0.344378</td>\n",
       "      <td>-0.344378</td>\n",
       "      <td>1.497059</td>\n",
       "      <td>...</td>\n",
       "      <td>0.0</td>\n",
       "      <td>0.0</td>\n",
       "      <td>0.0</td>\n",
       "      <td>0.0</td>\n",
       "      <td>0.0</td>\n",
       "      <td>0.0</td>\n",
       "      <td>0.0</td>\n",
       "      <td>0.0</td>\n",
       "      <td>199839</td>\n",
       "      <td>5.935035e+11</td>\n",
       "    </tr>\n",
       "    <tr>\n",
       "      <th>3</th>\n",
       "      <td>-0.316463</td>\n",
       "      <td>1.543587</td>\n",
       "      <td>-0.869453</td>\n",
       "      <td>-0.433022</td>\n",
       "      <td>-0.337399</td>\n",
       "      <td>-0.337399</td>\n",
       "      <td>-0.337399</td>\n",
       "      <td>-0.337399</td>\n",
       "      <td>-0.337399</td>\n",
       "      <td>1.508691</td>\n",
       "      <td>...</td>\n",
       "      <td>0.0</td>\n",
       "      <td>0.0</td>\n",
       "      <td>0.0</td>\n",
       "      <td>0.0</td>\n",
       "      <td>0.0</td>\n",
       "      <td>0.0</td>\n",
       "      <td>0.0</td>\n",
       "      <td>0.0</td>\n",
       "      <td>199840</td>\n",
       "      <td>4.690359e+11</td>\n",
       "    </tr>\n",
       "    <tr>\n",
       "      <th>4</th>\n",
       "      <td>-0.306401</td>\n",
       "      <td>1.687928</td>\n",
       "      <td>0.674555</td>\n",
       "      <td>-0.443825</td>\n",
       "      <td>-0.331199</td>\n",
       "      <td>-0.331199</td>\n",
       "      <td>-0.331199</td>\n",
       "      <td>-0.331199</td>\n",
       "      <td>-0.331199</td>\n",
       "      <td>1.544538</td>\n",
       "      <td>...</td>\n",
       "      <td>0.0</td>\n",
       "      <td>0.0</td>\n",
       "      <td>0.0</td>\n",
       "      <td>0.0</td>\n",
       "      <td>0.0</td>\n",
       "      <td>0.0</td>\n",
       "      <td>0.0</td>\n",
       "      <td>0.0</td>\n",
       "      <td>199841</td>\n",
       "      <td>4.464630e+12</td>\n",
       "    </tr>\n",
       "  </tbody>\n",
       "</table>\n",
       "<p>5 rows × 224 columns</p>\n",
       "</div>"
      ],
      "text/plain": [
       "   volume_normalised  btc_to_usd  btc_slot_to_prev_perc  \\\n",
       "0          -0.351911    1.474317               1.000000   \n",
       "1          -0.346060    1.489017              -0.304490   \n",
       "2          -0.335162    1.527841               0.226330   \n",
       "3          -0.316463    1.543587              -0.869453   \n",
       "4          -0.306401    1.687928               0.674555   \n",
       "\n",
       "   market_volume_per_slot  volume_normalised_6  volume_normalised_12  \\\n",
       "0               -0.459336            -0.351911             -0.351911   \n",
       "1               -0.193284            -0.348985             -0.348985   \n",
       "2                2.820123            -0.344378             -0.344378   \n",
       "3               -0.433022            -0.337399             -0.337399   \n",
       "4               -0.443825            -0.331199             -0.331199   \n",
       "\n",
       "   volume_normalised_18  volume_normalised_24  volume_normalised_48  \\\n",
       "0             -0.351911             -0.351911             -0.351911   \n",
       "1             -0.348985             -0.348985             -0.348985   \n",
       "2             -0.344378             -0.344378             -0.344378   \n",
       "3             -0.337399             -0.337399             -0.337399   \n",
       "4             -0.331199             -0.331199             -0.331199   \n",
       "\n",
       "   btc_to_usd_6      ...       c5aa4_to_18  c5aa4_to_24  c5aa4_to_48  \\\n",
       "0      1.474317      ...               0.0          0.0          0.0   \n",
       "1      1.481667      ...               0.0          0.0          0.0   \n",
       "2      1.497059      ...               0.0          0.0          0.0   \n",
       "3      1.508691      ...               0.0          0.0          0.0   \n",
       "4      1.544538      ...               0.0          0.0          0.0   \n",
       "\n",
       "   e40a7_to_6  e40a7_to_12  e40a7_to_18  e40a7_to_24  e40a7_to_48   index  \\\n",
       "0         0.0          0.0          0.0          0.0          0.0  199837   \n",
       "1         0.0          0.0          0.0          0.0          0.0  199838   \n",
       "2         0.0          0.0          0.0          0.0          0.0  199839   \n",
       "3         0.0          0.0          0.0          0.0          0.0  199840   \n",
       "4         0.0          0.0          0.0          0.0          0.0  199841   \n",
       "\n",
       "       burnRate  \n",
       "0  6.068921e+14  \n",
       "1  1.888692e+12  \n",
       "2  5.935035e+11  \n",
       "3  4.690359e+11  \n",
       "4  4.464630e+12  \n",
       "\n",
       "[5 rows x 224 columns]"
      ]
     },
     "execution_count": 94,
     "metadata": {},
     "output_type": "execute_result"
    }
   ],
   "source": [
    "features_onchain_merged.head()"
   ]
  },
  {
   "cell_type": "code",
   "execution_count": 95,
   "metadata": {},
   "outputs": [],
   "source": [
    "features_onchain_merged['burnRate'] = features_onchain_merged['burnRate']-features_onchain_merged['burnRate'].mean()"
   ]
  },
  {
   "cell_type": "code",
   "execution_count": 96,
   "metadata": {},
   "outputs": [],
   "source": [
    "features_onchain_merged['burnRate'] = features_onchain_merged['burnRate']/features_onchain_merged['burnRate'].std()"
   ]
  },
  {
   "cell_type": "code",
   "execution_count": 97,
   "metadata": {},
   "outputs": [
    {
     "data": {
      "text/html": [
       "<div>\n",
       "<style scoped>\n",
       "    .dataframe tbody tr th:only-of-type {\n",
       "        vertical-align: middle;\n",
       "    }\n",
       "\n",
       "    .dataframe tbody tr th {\n",
       "        vertical-align: top;\n",
       "    }\n",
       "\n",
       "    .dataframe thead th {\n",
       "        text-align: right;\n",
       "    }\n",
       "</style>\n",
       "<table border=\"1\" class=\"dataframe\">\n",
       "  <thead>\n",
       "    <tr style=\"text-align: right;\">\n",
       "      <th></th>\n",
       "      <th>volume_normalised</th>\n",
       "      <th>btc_to_usd</th>\n",
       "      <th>btc_slot_to_prev_perc</th>\n",
       "      <th>market_volume_per_slot</th>\n",
       "      <th>volume_normalised_6</th>\n",
       "      <th>volume_normalised_12</th>\n",
       "      <th>volume_normalised_18</th>\n",
       "      <th>volume_normalised_24</th>\n",
       "      <th>volume_normalised_48</th>\n",
       "      <th>btc_to_usd_6</th>\n",
       "      <th>...</th>\n",
       "      <th>c5aa4_to_18</th>\n",
       "      <th>c5aa4_to_24</th>\n",
       "      <th>c5aa4_to_48</th>\n",
       "      <th>e40a7_to_6</th>\n",
       "      <th>e40a7_to_12</th>\n",
       "      <th>e40a7_to_18</th>\n",
       "      <th>e40a7_to_24</th>\n",
       "      <th>e40a7_to_48</th>\n",
       "      <th>index</th>\n",
       "      <th>burnRate</th>\n",
       "    </tr>\n",
       "  </thead>\n",
       "  <tbody>\n",
       "    <tr>\n",
       "      <th>0</th>\n",
       "      <td>-0.351911</td>\n",
       "      <td>1.474317</td>\n",
       "      <td>1.000000</td>\n",
       "      <td>-0.459336</td>\n",
       "      <td>-0.351911</td>\n",
       "      <td>-0.351911</td>\n",
       "      <td>-0.351911</td>\n",
       "      <td>-0.351911</td>\n",
       "      <td>-0.351911</td>\n",
       "      <td>1.474317</td>\n",
       "      <td>...</td>\n",
       "      <td>0.0</td>\n",
       "      <td>0.0</td>\n",
       "      <td>0.0</td>\n",
       "      <td>0.0</td>\n",
       "      <td>0.0</td>\n",
       "      <td>0.0</td>\n",
       "      <td>0.0</td>\n",
       "      <td>0.0</td>\n",
       "      <td>199837</td>\n",
       "      <td>6.515783</td>\n",
       "    </tr>\n",
       "    <tr>\n",
       "      <th>1</th>\n",
       "      <td>-0.346060</td>\n",
       "      <td>1.489017</td>\n",
       "      <td>-0.304490</td>\n",
       "      <td>-0.193284</td>\n",
       "      <td>-0.348985</td>\n",
       "      <td>-0.348985</td>\n",
       "      <td>-0.348985</td>\n",
       "      <td>-0.348985</td>\n",
       "      <td>-0.348985</td>\n",
       "      <td>1.481667</td>\n",
       "      <td>...</td>\n",
       "      <td>0.0</td>\n",
       "      <td>0.0</td>\n",
       "      <td>0.0</td>\n",
       "      <td>0.0</td>\n",
       "      <td>0.0</td>\n",
       "      <td>0.0</td>\n",
       "      <td>0.0</td>\n",
       "      <td>0.0</td>\n",
       "      <td>199838</td>\n",
       "      <td>-0.152054</td>\n",
       "    </tr>\n",
       "    <tr>\n",
       "      <th>2</th>\n",
       "      <td>-0.335162</td>\n",
       "      <td>1.527841</td>\n",
       "      <td>0.226330</td>\n",
       "      <td>2.820123</td>\n",
       "      <td>-0.344378</td>\n",
       "      <td>-0.344378</td>\n",
       "      <td>-0.344378</td>\n",
       "      <td>-0.344378</td>\n",
       "      <td>-0.344378</td>\n",
       "      <td>1.497059</td>\n",
       "      <td>...</td>\n",
       "      <td>0.0</td>\n",
       "      <td>0.0</td>\n",
       "      <td>0.0</td>\n",
       "      <td>0.0</td>\n",
       "      <td>0.0</td>\n",
       "      <td>0.0</td>\n",
       "      <td>0.0</td>\n",
       "      <td>0.0</td>\n",
       "      <td>199839</td>\n",
       "      <td>-0.166328</td>\n",
       "    </tr>\n",
       "    <tr>\n",
       "      <th>3</th>\n",
       "      <td>-0.316463</td>\n",
       "      <td>1.543587</td>\n",
       "      <td>-0.869453</td>\n",
       "      <td>-0.433022</td>\n",
       "      <td>-0.337399</td>\n",
       "      <td>-0.337399</td>\n",
       "      <td>-0.337399</td>\n",
       "      <td>-0.337399</td>\n",
       "      <td>-0.337399</td>\n",
       "      <td>1.508691</td>\n",
       "      <td>...</td>\n",
       "      <td>0.0</td>\n",
       "      <td>0.0</td>\n",
       "      <td>0.0</td>\n",
       "      <td>0.0</td>\n",
       "      <td>0.0</td>\n",
       "      <td>0.0</td>\n",
       "      <td>0.0</td>\n",
       "      <td>0.0</td>\n",
       "      <td>199840</td>\n",
       "      <td>-0.167700</td>\n",
       "    </tr>\n",
       "    <tr>\n",
       "      <th>4</th>\n",
       "      <td>-0.306401</td>\n",
       "      <td>1.687928</td>\n",
       "      <td>0.674555</td>\n",
       "      <td>-0.443825</td>\n",
       "      <td>-0.331199</td>\n",
       "      <td>-0.331199</td>\n",
       "      <td>-0.331199</td>\n",
       "      <td>-0.331199</td>\n",
       "      <td>-0.331199</td>\n",
       "      <td>1.544538</td>\n",
       "      <td>...</td>\n",
       "      <td>0.0</td>\n",
       "      <td>0.0</td>\n",
       "      <td>0.0</td>\n",
       "      <td>0.0</td>\n",
       "      <td>0.0</td>\n",
       "      <td>0.0</td>\n",
       "      <td>0.0</td>\n",
       "      <td>0.0</td>\n",
       "      <td>199841</td>\n",
       "      <td>-0.123664</td>\n",
       "    </tr>\n",
       "  </tbody>\n",
       "</table>\n",
       "<p>5 rows × 224 columns</p>\n",
       "</div>"
      ],
      "text/plain": [
       "   volume_normalised  btc_to_usd  btc_slot_to_prev_perc  \\\n",
       "0          -0.351911    1.474317               1.000000   \n",
       "1          -0.346060    1.489017              -0.304490   \n",
       "2          -0.335162    1.527841               0.226330   \n",
       "3          -0.316463    1.543587              -0.869453   \n",
       "4          -0.306401    1.687928               0.674555   \n",
       "\n",
       "   market_volume_per_slot  volume_normalised_6  volume_normalised_12  \\\n",
       "0               -0.459336            -0.351911             -0.351911   \n",
       "1               -0.193284            -0.348985             -0.348985   \n",
       "2                2.820123            -0.344378             -0.344378   \n",
       "3               -0.433022            -0.337399             -0.337399   \n",
       "4               -0.443825            -0.331199             -0.331199   \n",
       "\n",
       "   volume_normalised_18  volume_normalised_24  volume_normalised_48  \\\n",
       "0             -0.351911             -0.351911             -0.351911   \n",
       "1             -0.348985             -0.348985             -0.348985   \n",
       "2             -0.344378             -0.344378             -0.344378   \n",
       "3             -0.337399             -0.337399             -0.337399   \n",
       "4             -0.331199             -0.331199             -0.331199   \n",
       "\n",
       "   btc_to_usd_6    ...     c5aa4_to_18  c5aa4_to_24  c5aa4_to_48  e40a7_to_6  \\\n",
       "0      1.474317    ...             0.0          0.0          0.0         0.0   \n",
       "1      1.481667    ...             0.0          0.0          0.0         0.0   \n",
       "2      1.497059    ...             0.0          0.0          0.0         0.0   \n",
       "3      1.508691    ...             0.0          0.0          0.0         0.0   \n",
       "4      1.544538    ...             0.0          0.0          0.0         0.0   \n",
       "\n",
       "   e40a7_to_12  e40a7_to_18  e40a7_to_24  e40a7_to_48   index  burnRate  \n",
       "0          0.0          0.0          0.0          0.0  199837  6.515783  \n",
       "1          0.0          0.0          0.0          0.0  199838 -0.152054  \n",
       "2          0.0          0.0          0.0          0.0  199839 -0.166328  \n",
       "3          0.0          0.0          0.0          0.0  199840 -0.167700  \n",
       "4          0.0          0.0          0.0          0.0  199841 -0.123664  \n",
       "\n",
       "[5 rows x 224 columns]"
      ]
     },
     "execution_count": 97,
     "metadata": {},
     "output_type": "execute_result"
    }
   ],
   "source": [
    "features_onchain_merged.head()"
   ]
  },
  {
   "cell_type": "code",
   "execution_count": 98,
   "metadata": {},
   "outputs": [],
   "source": [
    "pkl_file = open('/home/anna/Documents/AISThack/pickles/Y_trx.pickle', 'rb')\n",
    "#pkl_file = open('/home/anna/Documents/AISThack/pickles/Y_eos.pickle', 'rb')\n",
    "#pkl_file = open('/home/anna/Documents/AISThack/pickles/Y_drgn.pickle', 'rb')\n",
    "Y = pickle.load(pkl_file)\n",
    "pkl_file.close()"
   ]
  },
  {
   "cell_type": "code",
   "execution_count": 99,
   "metadata": {},
   "outputs": [
    {
     "name": "stdout",
     "output_type": "stream",
     "text": [
      "CPU times: user 9.06 s, sys: 11.7 ms, total: 9.07 s\n",
      "Wall time: 9.07 s\n"
     ]
    }
   ],
   "source": [
    "%%time\n",
    "#features_onchain_merged\n",
    "x_train = features_onchain_merged.iloc[:658]\n",
    "x_test = features_onchain_merged.iloc[659:]\n",
    "y_train = Y[:658]\n",
    "y_test = Y[659:]\n",
    "np.random.seed(42)\n",
    "model = xgb.XGBClassifier(learning_rate = 0.02, max_depth = 5, n_estimators=300, seed=42, objective='multi:softmax', min_child_weight=2)\n",
    "model.fit(x_train, y_train, eval_metric='merror')"
   ]
  },
  {
   "cell_type": "code",
   "execution_count": null,
   "metadata": {},
   "outputs": [],
   "source": []
  },
  {
   "cell_type": "code",
   "execution_count": 100,
   "metadata": {},
   "outputs": [
    {
     "name": "stdout",
     "output_type": "stream",
     "text": [
      "Test accuracy: 43.84%\n"
     ]
    },
    {
     "name": "stderr",
     "output_type": "stream",
     "text": [
      "/home/anna/anaconda2/lib/python2.7/site-packages/sklearn/preprocessing/label.py:151: DeprecationWarning: The truth value of an empty array is ambiguous. Returning False, but in future this will result in an error. Use `array.size > 0` to check that an array is not empty.\n",
      "  if diff:\n"
     ]
    }
   ],
   "source": [
    "y_pred = model.predict(x_test)\n",
    "predictions = [round(value) for value in y_pred]\n",
    "# evaluate predictions\n",
    "accuracy = accuracy_score(y_test, predictions)\n",
    "print(\"Test accuracy: %.2f%%\" % (accuracy * 100.0))"
   ]
  },
  {
   "cell_type": "code",
   "execution_count": 101,
   "metadata": {},
   "outputs": [
    {
     "name": "stdout",
     "output_type": "stream",
     "text": [
      "burnRate_6\n",
      "burnRate_12\n",
      "burnRate_18\n",
      "burnRate_24\n",
      "burnRate_48\n",
      "CPU times: user 12.3 ms, sys: 4 µs, total: 12.3 ms\n",
      "Wall time: 10.7 ms\n"
     ]
    }
   ],
   "source": [
    "%%time\n",
    "averages = [6,12,18,24,48]\n",
    "features_to_av = ['burnRate']\n",
    "for feature in features_to_av:\n",
    "    for av in averages:\n",
    "        feature_name = feature + \"_\" + str(av)\n",
    "        print feature_name\n",
    "        features_onchain_merged[feature_name] = features_onchain_merged[feature].rolling(window=av, min_periods = 1).mean()\n",
    "        #tmp = features_onchain_merged[feature].rolling(window=av, min_periods = 1).mean()\n",
    "        #print features_onchain[feature].iloc[0]\n",
    "        #print tmp.iloc[0]"
   ]
  },
  {
   "cell_type": "code",
   "execution_count": 108,
   "metadata": {},
   "outputs": [
    {
     "name": "stdout",
     "output_type": "stream",
     "text": [
      "Test accuracy: 42.47%\n",
      "Train accuracy: 99.70%\n",
      "CPU times: user 9.4 s, sys: 7.86 ms, total: 9.4 s\n",
      "Wall time: 9.41 s\n"
     ]
    },
    {
     "name": "stderr",
     "output_type": "stream",
     "text": [
      "/home/anna/anaconda2/lib/python2.7/site-packages/sklearn/preprocessing/label.py:151: DeprecationWarning: The truth value of an empty array is ambiguous. Returning False, but in future this will result in an error. Use `array.size > 0` to check that an array is not empty.\n",
      "  if diff:\n",
      "/home/anna/anaconda2/lib/python2.7/site-packages/sklearn/preprocessing/label.py:151: DeprecationWarning: The truth value of an empty array is ambiguous. Returning False, but in future this will result in an error. Use `array.size > 0` to check that an array is not empty.\n",
      "  if diff:\n"
     ]
    }
   ],
   "source": [
    "%%time\n",
    "#features_onchain_merged\n",
    "x_train = features_onchain_merged.iloc[:658]\n",
    "x_test = features_onchain_merged.iloc[659:]\n",
    "y_train = Y[:658]\n",
    "y_test = Y[659:]\n",
    "np.random.seed(42)\n",
    "model = xgb.XGBClassifier(learning_rate = 0.02, max_depth = 5, n_estimators=300, seed=42, objective='multi:softmax', min_child_weight=2)\n",
    "model.fit(x_train, y_train, eval_metric='merror')\n",
    "y_pred = model.predict(x_test)\n",
    "predictions = [round(value) for value in y_pred]\n",
    "# evaluate predictions\n",
    "accuracy = accuracy_score(y_test, predictions)\n",
    "print(\"Test accuracy: %.2f%%\" % (accuracy * 100.0))\n",
    "y_pred = model.predict(x_train)\n",
    "predictions = [round(value) for value in y_pred]\n",
    "# evaluate predictions\n",
    "accuracy = accuracy_score(y_train, predictions)\n",
    "print(\"Train accuracy: %.2f%%\" % (accuracy * 100.0))"
   ]
  },
  {
   "cell_type": "code",
   "execution_count": 109,
   "metadata": {},
   "outputs": [
    {
     "data": {
      "image/png": "[encoded data removed]",
      "text/plain": [
       "<Figure size 432x288 with 1 Axes>"
      ]
     },
     "metadata": {},
     "output_type": "display_data"
    }
   ],
   "source": [
    "from xgboost import plot_importance\n",
    "from matplotlib import pyplot\n",
    "plot_importance(model)\n",
    "pyplot.show()"
   ]
  },
  {
   "cell_type": "code",
   "execution_count": 110,
   "metadata": {},
   "outputs": [],
   "source": [
    "#print(model.feature_importances_)"
   ]
  },
  {
   "cell_type": "code",
   "execution_count": 111,
   "metadata": {},
   "outputs": [
    {
     "data": {
      "image/png": "[encoded data removed]",
      "text/plain": [
       "<Figure size 864x720 with 1 Axes>"
      ]
     },
     "metadata": {},
     "output_type": "display_data"
    }
   ],
   "source": [
    "fig, ax = plt.subplots(figsize=(12,10))\n",
    "plot_importance(model, max_num_features=20, height=0.8, ax=ax)\n",
    "plt.show()"
   ]
  },
  {
   "cell_type": "code",
   "execution_count": 112,
   "metadata": {},
   "outputs": [],
   "source": [
    "from sklearn.linear_model import LogisticRegression\n",
    "from sklearn.metrics import accuracy_score, auc, roc_auc_score"
   ]
  },
  {
   "cell_type": "code",
   "execution_count": 113,
   "metadata": {},
   "outputs": [
    {
     "name": "stdout",
     "output_type": "stream",
     "text": [
      "(658, 73, 658, 73)\n",
      "max_iter reached after 1 seconds\n",
      "test accuracy: 0.301369863014\n",
      "train accuracy 0.433130699088\n"
     ]
    },
    {
     "name": "stderr",
     "output_type": "stream",
     "text": [
      "[Parallel(n_jobs=1)]: Done   1 out of   1 | elapsed:    0.3s remaining:    0.0s\n",
      "[Parallel(n_jobs=1)]: Done   1 out of   1 | elapsed:    0.3s finished\n"
     ]
    }
   ],
   "source": [
    "x_train = features_onchain_merged.iloc[:658]\n",
    "x_test = features_onchain_merged.iloc[659:]\n",
    "y_train = Y[:658]\n",
    "y_test = Y[659:]\n",
    "print(len(x_train), len(x_test), len(y_train), len(y_test))\n",
    "lr_char = LogisticRegression(solver='sag', verbose=2, multi_class='multinomial')\n",
    "lr_char.fit(x_train, y_train)\n",
    "y_pred_char = lr_char.predict(x_test)\n",
    "print(\"test accuracy: {}\".format(accuracy_score(y_test, y_pred_char)))\n",
    "y_pred_train = lr_char.predict(x_train)\n",
    "print(\"train accuracy {}\" .format(accuracy_score(y_train, y_pred_train)))"
   ]
  },
  {
   "cell_type": "code",
   "execution_count": null,
   "metadata": {},
   "outputs": [],
   "source": []
  }
 ],
 "metadata": {
  "kernelspec": {
   "display_name": "Python 2",
   "language": "python",
   "name": "python2"
  },
  "language_info": {
   "codemirror_mode": {
    "name": "ipython",
    "version": 2
   },
   "file_extension": ".py",
   "mimetype": "text/x-python",
   "name": "python",
   "nbconvert_exporter": "python",
   "pygments_lexer": "ipython2",
   "version": "2.7.15"
  }
 },
 "nbformat": 4,
 "nbformat_minor": 2
}
