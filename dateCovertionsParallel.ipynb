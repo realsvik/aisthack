{
 "cells": [
  {
   "cell_type": "code",
   "execution_count": 1,
   "metadata": {},
   "outputs": [],
   "source": [
    "import pandas as pd\n",
    "from functools import partial\n",
    "import multiprocessing\n",
    "from multiprocessing import Pool\n",
    "import numpy as np"
   ]
  },
  {
   "cell_type": "code",
   "execution_count": 2,
   "metadata": {},
   "outputs": [],
   "source": [
    "import time\n",
    "from datetime import datetime, timedelta\n",
    "from pytz import timezone\n"
   ]
  },
  {
   "cell_type": "code",
   "execution_count": null,
   "metadata": {},
   "outputs": [],
   "source": []
  },
  {
   "cell_type": "code",
   "execution_count": 3,
   "metadata": {},
   "outputs": [],
   "source": [
    "pd.set_option('display.max_columns', None)"
   ]
  },
  {
   "cell_type": "code",
   "execution_count": 4,
   "metadata": {},
   "outputs": [],
   "source": [
    "# thanks to https://stackoverflow.com/questions/4182603/how-to-convert-a-string-to-utf-8-in-python\n",
    "def make_unicode(input):\n",
    "    if type(input) != unicode:\n",
    "        input =  input.decode('utf-8')\n",
    "        return input\n",
    "    else:\n",
    "        return input"
   ]
  },
  {
   "cell_type": "code",
   "execution_count": 6,
   "metadata": {},
   "outputs": [],
   "source": [
    "#chats_beta = pd.read_csv(\"../data/sample/chats_beta.csv\")\n",
    "#chats_beta = pd.read_csv(\"../data/train/tickers_train.csv\")\n",
    "chats_beta = pd.read_csv(\"../data/train/onchain/TRX_train.csv\")\n"
   ]
  },
  {
   "cell_type": "code",
   "execution_count": 7,
   "metadata": {},
   "outputs": [
    {
     "data": {
      "text/html": [
       "<div>\n",
       "<style scoped>\n",
       "    .dataframe tbody tr th:only-of-type {\n",
       "        vertical-align: middle;\n",
       "    }\n",
       "\n",
       "    .dataframe tbody tr th {\n",
       "        vertical-align: top;\n",
       "    }\n",
       "\n",
       "    .dataframe thead th {\n",
       "        text-align: right;\n",
       "    }\n",
       "</style>\n",
       "<table border=\"1\" class=\"dataframe\">\n",
       "  <thead>\n",
       "    <tr style=\"text-align: right;\">\n",
       "      <th></th>\n",
       "      <th>from</th>\n",
       "      <th>to</th>\n",
       "      <th>value</th>\n",
       "      <th>timestamp</th>\n",
       "    </tr>\n",
       "  </thead>\n",
       "  <tbody>\n",
       "    <tr>\n",
       "      <th>469248</th>\n",
       "      <td>11eeb1</td>\n",
       "      <td>11aad9</td>\n",
       "      <td>7.873947e+10</td>\n",
       "      <td>1525054091</td>\n",
       "    </tr>\n",
       "    <tr>\n",
       "      <th>469249</th>\n",
       "      <td>4481f</td>\n",
       "      <td>14ac53</td>\n",
       "      <td>1.000000e+07</td>\n",
       "      <td>1525054091</td>\n",
       "    </tr>\n",
       "    <tr>\n",
       "      <th>469250</th>\n",
       "      <td>bc9b7</td>\n",
       "      <td>96d1f</td>\n",
       "      <td>3.597031e+09</td>\n",
       "      <td>1525054108</td>\n",
       "    </tr>\n",
       "    <tr>\n",
       "      <th>469251</th>\n",
       "      <td>23cdc</td>\n",
       "      <td>95d21</td>\n",
       "      <td>9.293694e+08</td>\n",
       "      <td>1525054108</td>\n",
       "    </tr>\n",
       "    <tr>\n",
       "      <th>469252</th>\n",
       "      <td>f4b10</td>\n",
       "      <td>2077e</td>\n",
       "      <td>3.208266e+09</td>\n",
       "      <td>1525054108</td>\n",
       "    </tr>\n",
       "  </tbody>\n",
       "</table>\n",
       "</div>"
      ],
      "text/plain": [
       "          from      to         value   timestamp\n",
       "469248  11eeb1  11aad9  7.873947e+10  1525054091\n",
       "469249   4481f  14ac53  1.000000e+07  1525054091\n",
       "469250   bc9b7   96d1f  3.597031e+09  1525054108\n",
       "469251   23cdc   95d21  9.293694e+08  1525054108\n",
       "469252   f4b10   2077e  3.208266e+09  1525054108"
      ]
     },
     "execution_count": 7,
     "metadata": {},
     "output_type": "execute_result"
    }
   ],
   "source": [
    "chats_beta.tail()"
   ]
  },
  {
   "cell_type": "code",
   "execution_count": 8,
   "metadata": {},
   "outputs": [],
   "source": [
    "#chats_beta = chats_beta.head(50)"
   ]
  },
  {
   "cell_type": "code",
   "execution_count": 9,
   "metadata": {},
   "outputs": [
    {
     "data": {
      "text/plain": [
       "(469253, 4)"
      ]
     },
     "execution_count": 9,
     "metadata": {},
     "output_type": "execute_result"
    }
   ],
   "source": [
    "chats_beta.shape"
   ]
  },
  {
   "cell_type": "code",
   "execution_count": 10,
   "metadata": {},
   "outputs": [
    {
     "data": {
      "text/plain": [
       "datetime.datetime(2018, 3, 1, 0, 0)"
      ]
     },
     "execution_count": 10,
     "metadata": {},
     "output_type": "execute_result"
    }
   ],
   "source": [
    "datetime.strptime(\"2018-03-01T00:00:00Z\",\"%Y-%m-%dT%H:%M:%SZ\")"
   ]
  },
  {
   "cell_type": "markdown",
   "metadata": {},
   "source": [
    "create a column with string date"
   ]
  },
  {
   "cell_type": "code",
   "execution_count": 11,
   "metadata": {},
   "outputs": [],
   "source": [
    "def markDataFrameByChunks(df, num, col):\n",
    "    ordNums = np.array(sorted(df[col].unique(),reverse=False))\n",
    "    ordRange = range(0, len(ordNums))\n",
    "    chunksDF = pd.DataFrame({'colName': ordNums, 'theirNum': ordRange}, index = ordRange)\n",
    "    chunksDF['chunk'] = pd.cut(chunksDF['theirNum'], num)\n",
    "    return chunksDF"
   ]
  },
  {
   "cell_type": "code",
   "execution_count": 12,
   "metadata": {},
   "outputs": [
    {
     "name": "stdout",
     "output_type": "stream",
     "text": [
      "(469253, 5)\n"
     ]
    }
   ],
   "source": [
    "# assign chunk numbers\n",
    "colname = \"from\"\n",
    "chats_betaWithChunks = markDataFrameByChunks(chats_beta,4,colname)\n",
    "tmpDF = chats_beta.merge(chats_betaWithChunks, left_on = colname, right_on = 'colName', how = 'left')\n",
    "tmpDF.drop(['colName','theirNum'], axis = 1, inplace = True)\n",
    "print tmpDF.shape"
   ]
  },
  {
   "cell_type": "code",
   "execution_count": 13,
   "metadata": {},
   "outputs": [
    {
     "data": {
      "text/html": [
       "<div>\n",
       "<style scoped>\n",
       "    .dataframe tbody tr th:only-of-type {\n",
       "        vertical-align: middle;\n",
       "    }\n",
       "\n",
       "    .dataframe tbody tr th {\n",
       "        vertical-align: top;\n",
       "    }\n",
       "\n",
       "    .dataframe thead th {\n",
       "        text-align: right;\n",
       "    }\n",
       "</style>\n",
       "<table border=\"1\" class=\"dataframe\">\n",
       "  <thead>\n",
       "    <tr style=\"text-align: right;\">\n",
       "      <th></th>\n",
       "      <th>from</th>\n",
       "      <th>to</th>\n",
       "      <th>value</th>\n",
       "      <th>timestamp</th>\n",
       "      <th>chunk</th>\n",
       "    </tr>\n",
       "  </thead>\n",
       "  <tbody>\n",
       "    <tr>\n",
       "      <th>469248</th>\n",
       "      <td>11eeb1</td>\n",
       "      <td>11aad9</td>\n",
       "      <td>7.873947e+10</td>\n",
       "      <td>1525054091</td>\n",
       "      <td>(-144.038, 36009.5]</td>\n",
       "    </tr>\n",
       "    <tr>\n",
       "      <th>469249</th>\n",
       "      <td>4481f</td>\n",
       "      <td>14ac53</td>\n",
       "      <td>1.000000e+07</td>\n",
       "      <td>1525054091</td>\n",
       "      <td>(36009.5, 72019.0]</td>\n",
       "    </tr>\n",
       "    <tr>\n",
       "      <th>469250</th>\n",
       "      <td>bc9b7</td>\n",
       "      <td>96d1f</td>\n",
       "      <td>3.597031e+09</td>\n",
       "      <td>1525054108</td>\n",
       "      <td>(108028.5, 144038.0]</td>\n",
       "    </tr>\n",
       "    <tr>\n",
       "      <th>469251</th>\n",
       "      <td>23cdc</td>\n",
       "      <td>95d21</td>\n",
       "      <td>9.293694e+08</td>\n",
       "      <td>1525054108</td>\n",
       "      <td>(36009.5, 72019.0]</td>\n",
       "    </tr>\n",
       "    <tr>\n",
       "      <th>469252</th>\n",
       "      <td>f4b10</td>\n",
       "      <td>2077e</td>\n",
       "      <td>3.208266e+09</td>\n",
       "      <td>1525054108</td>\n",
       "      <td>(108028.5, 144038.0]</td>\n",
       "    </tr>\n",
       "  </tbody>\n",
       "</table>\n",
       "</div>"
      ],
      "text/plain": [
       "          from      to         value   timestamp                 chunk\n",
       "469248  11eeb1  11aad9  7.873947e+10  1525054091   (-144.038, 36009.5]\n",
       "469249   4481f  14ac53  1.000000e+07  1525054091    (36009.5, 72019.0]\n",
       "469250   bc9b7   96d1f  3.597031e+09  1525054108  (108028.5, 144038.0]\n",
       "469251   23cdc   95d21  9.293694e+08  1525054108    (36009.5, 72019.0]\n",
       "469252   f4b10   2077e  3.208266e+09  1525054108  (108028.5, 144038.0]"
      ]
     },
     "execution_count": 13,
     "metadata": {},
     "output_type": "execute_result"
    }
   ],
   "source": [
    "tmpDF.tail()"
   ]
  },
  {
   "cell_type": "code",
   "execution_count": 14,
   "metadata": {},
   "outputs": [],
   "source": [
    "def parallel_date_unix_convert(colname, df):\n",
    "    #print df.shape\n",
    "    #print df[1].columns\n",
    "    #lang_dict = {}\n",
    "    lang_list = []\n",
    "    for index, row in df[1].iterrows():\n",
    "        lang_dict = {}\n",
    "        lang_dict['index_orig'] = index\n",
    "        try:\n",
    "            date_date = datetime.fromtimestamp(row[colname])\n",
    "            #date_date = datetime.strptime(row[colname],\"%Y-%m-%dT%H:%M:%SZ\")\n",
    "            #Sprint date_date\n",
    "        except:\n",
    "            date_date = None\n",
    "        if not(pd.isnull(date_date)):\n",
    "            lang_dict['date_datetime'] = date_date\n",
    "            lang_dict['date_date'] = date_date.date()\n",
    "            lang_dict['date_string'] = date_date.strftime('%Y-%m-%d %H:%M:%S')\n",
    "        else:\n",
    "            lang_dict['date_date'] = None\n",
    "            lang_dict['date_string'] = None\n",
    "            lang_dict['date_datetime'] = None\n",
    "        lang_list.append(lang_dict)\n",
    "    return lang_list"
   ]
  },
  {
   "cell_type": "code",
   "execution_count": 15,
   "metadata": {},
   "outputs": [],
   "source": [
    "def parallel_date_unix_convert_test(colname, df):\n",
    "    #print df.shape\n",
    "    #print df[1].columns\n",
    "    #lang_dict = {}\n",
    "    lang_list = []\n",
    "    for index, row in df[1].iterrows():\n",
    "        lang_dict = {}\n",
    "        lang_dict['index_orig'] = index\n",
    "        date_date = datetime.strptime(row[colname],\"%Y-%m-%dT%H:%M:%SZ\")\n",
    "        print date_date\n",
    "    return lang_list"
   ]
  },
  {
   "cell_type": "code",
   "execution_count": 16,
   "metadata": {},
   "outputs": [
    {
     "name": "stdout",
     "output_type": "stream",
     "text": [
      "defined workers\n",
      "closed pool\n",
      "CPU times: user 1.35 s, sys: 207 ms, total: 1.56 s\n",
      "Wall time: 32.3 s\n"
     ]
    }
   ],
   "source": [
    "%%time\n",
    "#dfByChunk = dfByChunk.groupby('chunk')\n",
    "dfByChunk = tmpDF.groupby('chunk')\n",
    "#func = partial(parallel_date_unix_convert_test, \"datetime\")\n",
    "func = partial(parallel_date_unix_convert, \"timestamp\")\n",
    "if __name__ == '__main__':\n",
    "    p = Pool(processes=3)\n",
    "    print 'defined workers'\n",
    "    result = (p.map(func, dfByChunk))\n",
    "    p.close()\n",
    "    try:\n",
    "        p.terminate()\n",
    "    except WindowsError:\n",
    "        pass\n",
    "    p.join()\n",
    "    dfByChunk = None\n",
    "    print 'closed pool'\n",
    "p.terminate()"
   ]
  },
  {
   "cell_type": "code",
   "execution_count": 17,
   "metadata": {},
   "outputs": [],
   "source": [
    "tmpDF = None"
   ]
  },
  {
   "cell_type": "code",
   "execution_count": 18,
   "metadata": {},
   "outputs": [
    {
     "name": "stdout",
     "output_type": "stream",
     "text": [
      "CPU times: user 1.04 s, sys: 32.6 ms, total: 1.07 s\n",
      "Wall time: 1.01 s\n"
     ]
    }
   ],
   "source": [
    "%%time\n",
    "# unpack list with outputs\n",
    "unpackedDF = pd.DataFrame()\n",
    "for res in result:\n",
    "    #print res\n",
    "    tmpDF = pd.DataFrame(res)\n",
    "    unpackedDF = pd.concat([unpackedDF, tmpDF])"
   ]
  },
  {
   "cell_type": "code",
   "execution_count": 19,
   "metadata": {},
   "outputs": [],
   "source": [
    "unpackedDF.set_index('index_orig', inplace = True);"
   ]
  },
  {
   "cell_type": "code",
   "execution_count": 20,
   "metadata": {},
   "outputs": [
    {
     "data": {
      "text/html": [
       "<div>\n",
       "<style scoped>\n",
       "    .dataframe tbody tr th:only-of-type {\n",
       "        vertical-align: middle;\n",
       "    }\n",
       "\n",
       "    .dataframe tbody tr th {\n",
       "        vertical-align: top;\n",
       "    }\n",
       "\n",
       "    .dataframe thead th {\n",
       "        text-align: right;\n",
       "    }\n",
       "</style>\n",
       "<table border=\"1\" class=\"dataframe\">\n",
       "  <thead>\n",
       "    <tr style=\"text-align: right;\">\n",
       "      <th></th>\n",
       "      <th>date_date</th>\n",
       "      <th>date_datetime</th>\n",
       "      <th>date_string</th>\n",
       "    </tr>\n",
       "    <tr>\n",
       "      <th>index_orig</th>\n",
       "      <th></th>\n",
       "      <th></th>\n",
       "      <th></th>\n",
       "    </tr>\n",
       "  </thead>\n",
       "  <tbody>\n",
       "    <tr>\n",
       "      <th>1</th>\n",
       "      <td>2018-03-07</td>\n",
       "      <td>2018-03-07 00:08:13</td>\n",
       "      <td>2018-03-07 00:08:13</td>\n",
       "    </tr>\n",
       "    <tr>\n",
       "      <th>4</th>\n",
       "      <td>2018-03-07</td>\n",
       "      <td>2018-03-07 00:10:37</td>\n",
       "      <td>2018-03-07 00:10:37</td>\n",
       "    </tr>\n",
       "    <tr>\n",
       "      <th>5</th>\n",
       "      <td>2018-03-07</td>\n",
       "      <td>2018-03-07 00:10:47</td>\n",
       "      <td>2018-03-07 00:10:47</td>\n",
       "    </tr>\n",
       "    <tr>\n",
       "      <th>11</th>\n",
       "      <td>2018-03-07</td>\n",
       "      <td>2018-03-07 00:11:48</td>\n",
       "      <td>2018-03-07 00:11:48</td>\n",
       "    </tr>\n",
       "    <tr>\n",
       "      <th>13</th>\n",
       "      <td>2018-03-07</td>\n",
       "      <td>2018-03-07 00:12:18</td>\n",
       "      <td>2018-03-07 00:12:18</td>\n",
       "    </tr>\n",
       "  </tbody>\n",
       "</table>\n",
       "</div>"
      ],
      "text/plain": [
       "             date_date       date_datetime          date_string\n",
       "index_orig                                                     \n",
       "1           2018-03-07 2018-03-07 00:08:13  2018-03-07 00:08:13\n",
       "4           2018-03-07 2018-03-07 00:10:37  2018-03-07 00:10:37\n",
       "5           2018-03-07 2018-03-07 00:10:47  2018-03-07 00:10:47\n",
       "11          2018-03-07 2018-03-07 00:11:48  2018-03-07 00:11:48\n",
       "13          2018-03-07 2018-03-07 00:12:18  2018-03-07 00:12:18"
      ]
     },
     "execution_count": 20,
     "metadata": {},
     "output_type": "execute_result"
    }
   ],
   "source": [
    "unpackedDF.head()"
   ]
  },
  {
   "cell_type": "code",
   "execution_count": 21,
   "metadata": {},
   "outputs": [],
   "source": [
    "chats_beta_with_time = chats_beta.merge(unpackedDF, left_index = True, right_index = True)"
   ]
  },
  {
   "cell_type": "code",
   "execution_count": 22,
   "metadata": {},
   "outputs": [
    {
     "data": {
      "text/html": [
       "<div>\n",
       "<style scoped>\n",
       "    .dataframe tbody tr th:only-of-type {\n",
       "        vertical-align: middle;\n",
       "    }\n",
       "\n",
       "    .dataframe tbody tr th {\n",
       "        vertical-align: top;\n",
       "    }\n",
       "\n",
       "    .dataframe thead th {\n",
       "        text-align: right;\n",
       "    }\n",
       "</style>\n",
       "<table border=\"1\" class=\"dataframe\">\n",
       "  <thead>\n",
       "    <tr style=\"text-align: right;\">\n",
       "      <th></th>\n",
       "      <th>from</th>\n",
       "      <th>to</th>\n",
       "      <th>value</th>\n",
       "      <th>timestamp</th>\n",
       "      <th>date_date</th>\n",
       "      <th>date_datetime</th>\n",
       "      <th>date_string</th>\n",
       "    </tr>\n",
       "  </thead>\n",
       "  <tbody>\n",
       "    <tr>\n",
       "      <th>0</th>\n",
       "      <td>aca5b</td>\n",
       "      <td>52aa9</td>\n",
       "      <td>1.000000e+08</td>\n",
       "      <td>1520370474</td>\n",
       "      <td>2018-03-07</td>\n",
       "      <td>2018-03-07 00:07:54</td>\n",
       "      <td>2018-03-07 00:07:54</td>\n",
       "    </tr>\n",
       "    <tr>\n",
       "      <th>1</th>\n",
       "      <td>113582</td>\n",
       "      <td>8d0d5</td>\n",
       "      <td>4.995468e+09</td>\n",
       "      <td>1520370493</td>\n",
       "      <td>2018-03-07</td>\n",
       "      <td>2018-03-07 00:08:13</td>\n",
       "      <td>2018-03-07 00:08:13</td>\n",
       "    </tr>\n",
       "    <tr>\n",
       "      <th>2</th>\n",
       "      <td>8ef0d</td>\n",
       "      <td>104fc4</td>\n",
       "      <td>1.000000e+09</td>\n",
       "      <td>1520370524</td>\n",
       "      <td>2018-03-07</td>\n",
       "      <td>2018-03-07 00:08:44</td>\n",
       "      <td>2018-03-07 00:08:44</td>\n",
       "    </tr>\n",
       "    <tr>\n",
       "      <th>3</th>\n",
       "      <td>60dbe</td>\n",
       "      <td>69d9e</td>\n",
       "      <td>3.670003e+11</td>\n",
       "      <td>1520370548</td>\n",
       "      <td>2018-03-07</td>\n",
       "      <td>2018-03-07 00:09:08</td>\n",
       "      <td>2018-03-07 00:09:08</td>\n",
       "    </tr>\n",
       "    <tr>\n",
       "      <th>4</th>\n",
       "      <td>11416e</td>\n",
       "      <td>69d9e</td>\n",
       "      <td>3.997940e+11</td>\n",
       "      <td>1520370637</td>\n",
       "      <td>2018-03-07</td>\n",
       "      <td>2018-03-07 00:10:37</td>\n",
       "      <td>2018-03-07 00:10:37</td>\n",
       "    </tr>\n",
       "  </tbody>\n",
       "</table>\n",
       "</div>"
      ],
      "text/plain": [
       "     from      to         value   timestamp   date_date       date_datetime  \\\n",
       "0   aca5b   52aa9  1.000000e+08  1520370474  2018-03-07 2018-03-07 00:07:54   \n",
       "1  113582   8d0d5  4.995468e+09  1520370493  2018-03-07 2018-03-07 00:08:13   \n",
       "2   8ef0d  104fc4  1.000000e+09  1520370524  2018-03-07 2018-03-07 00:08:44   \n",
       "3   60dbe   69d9e  3.670003e+11  1520370548  2018-03-07 2018-03-07 00:09:08   \n",
       "4  11416e   69d9e  3.997940e+11  1520370637  2018-03-07 2018-03-07 00:10:37   \n",
       "\n",
       "           date_string  \n",
       "0  2018-03-07 00:07:54  \n",
       "1  2018-03-07 00:08:13  \n",
       "2  2018-03-07 00:08:44  \n",
       "3  2018-03-07 00:09:08  \n",
       "4  2018-03-07 00:10:37  "
      ]
     },
     "execution_count": 22,
     "metadata": {},
     "output_type": "execute_result"
    }
   ],
   "source": [
    "chats_beta_with_time.head()"
   ]
  },
  {
   "cell_type": "code",
   "execution_count": 23,
   "metadata": {},
   "outputs": [],
   "source": [
    "chats_beta = None\n",
    "unpackedDF = None"
   ]
  },
  {
   "cell_type": "code",
   "execution_count": 24,
   "metadata": {},
   "outputs": [],
   "source": [
    "chats_beta_with_time.to_pickle(\"../data/train/onchain/onchain_train_trx_withDates.pickle\")"
   ]
  },
  {
   "cell_type": "code",
   "execution_count": null,
   "metadata": {},
   "outputs": [],
   "source": []
  }
 ],
 "metadata": {
  "kernelspec": {
   "display_name": "Python 2",
   "language": "python",
   "name": "python2"
  },
  "language_info": {
   "codemirror_mode": {
    "name": "ipython",
    "version": 2
   },
   "file_extension": ".py",
   "mimetype": "text/x-python",
   "name": "python",
   "nbconvert_exporter": "python",
   "pygments_lexer": "ipython2",
   "version": "2.7.15"
  }
 },
 "nbformat": 4,
 "nbformat_minor": 2
}
