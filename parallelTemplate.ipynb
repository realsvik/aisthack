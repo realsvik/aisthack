{
 "cells": [
  {
   "cell_type": "code",
   "execution_count": 57,
   "metadata": {},
   "outputs": [],
   "source": [
    "import pandas as pd\n",
    "from multiprocessing import Process, Queue"
   ]
  },
  {
   "cell_type": "code",
   "execution_count": 58,
   "metadata": {},
   "outputs": [],
   "source": [
    "from functools import partial\n",
    "import multiprocessing\n",
    "from multiprocessing import Pool"
   ]
  },
  {
   "cell_type": "code",
   "execution_count": 59,
   "metadata": {},
   "outputs": [],
   "source": [
    "pd.set_option('display.max_columns', None)"
   ]
  },
  {
   "cell_type": "code",
   "execution_count": 60,
   "metadata": {},
   "outputs": [],
   "source": [
    "def markDataFrameByChunks(df, num, col):\n",
    "    ordNums = np.array(sorted(df[col].unique(),reverse=False))\n",
    "    ordRange = range(0, len(ordNums))\n",
    "    chunksDF = pd.DataFrame({'colName': ordNums, 'theirNum': ordRange}, index = ordRange)\n",
    "    chunksDF['chunk'] = pd.cut(chunksDF['theirNum'], num)\n",
    "    return chunksDF"
   ]
  },
  {
   "cell_type": "code",
   "execution_count": 62,
   "metadata": {},
   "outputs": [],
   "source": [
    "# use relevant data to load\n",
    "prices_beta = pd.read_csv(\"../data/sample/prices_beta.csv\")"
   ]
  },
  {
   "cell_type": "code",
   "execution_count": 63,
   "metadata": {},
   "outputs": [
    {
     "data": {
      "text/html": [
       "<div>\n",
       "<style scoped>\n",
       "    .dataframe tbody tr th:only-of-type {\n",
       "        vertical-align: middle;\n",
       "    }\n",
       "\n",
       "    .dataframe tbody tr th {\n",
       "        vertical-align: top;\n",
       "    }\n",
       "\n",
       "    .dataframe thead th {\n",
       "        text-align: right;\n",
       "    }\n",
       "</style>\n",
       "<table border=\"1\" class=\"dataframe\">\n",
       "  <thead>\n",
       "    <tr style=\"text-align: right;\">\n",
       "      <th></th>\n",
       "      <th>ticker</th>\n",
       "      <th>datetime</th>\n",
       "      <th>priceBtc</th>\n",
       "      <th>priceUsd</th>\n",
       "      <th>volume</th>\n",
       "    </tr>\n",
       "  </thead>\n",
       "  <tbody>\n",
       "    <tr>\n",
       "      <th>0</th>\n",
       "      <td>NGC</td>\n",
       "      <td>2018-03-25T02:00:00Z</td>\n",
       "      <td>0.000081</td>\n",
       "      <td>0.686255</td>\n",
       "      <td>172382.0</td>\n",
       "    </tr>\n",
       "    <tr>\n",
       "      <th>1</th>\n",
       "      <td>PRIX</td>\n",
       "      <td>2018-04-02T08:00:00Z</td>\n",
       "      <td>0.000204</td>\n",
       "      <td>1.438895</td>\n",
       "      <td>5437.0</td>\n",
       "    </tr>\n",
       "    <tr>\n",
       "      <th>2</th>\n",
       "      <td>AID</td>\n",
       "      <td>2018-04-25T12:00:00Z</td>\n",
       "      <td>0.000019</td>\n",
       "      <td>0.178030</td>\n",
       "      <td>234603.0</td>\n",
       "    </tr>\n",
       "    <tr>\n",
       "      <th>3</th>\n",
       "      <td>VIA</td>\n",
       "      <td>2018-04-10T22:00:00Z</td>\n",
       "      <td>0.000228</td>\n",
       "      <td>1.557606</td>\n",
       "      <td>9924460.0</td>\n",
       "    </tr>\n",
       "    <tr>\n",
       "      <th>4</th>\n",
       "      <td>STU</td>\n",
       "      <td>2018-03-31T04:00:00Z</td>\n",
       "      <td>0.000003</td>\n",
       "      <td>0.022287</td>\n",
       "      <td>431363.0</td>\n",
       "    </tr>\n",
       "  </tbody>\n",
       "</table>\n",
       "</div>"
      ],
      "text/plain": [
       "  ticker              datetime  priceBtc  priceUsd     volume\n",
       "0    NGC  2018-03-25T02:00:00Z  0.000081  0.686255   172382.0\n",
       "1   PRIX  2018-04-02T08:00:00Z  0.000204  1.438895     5437.0\n",
       "2    AID  2018-04-25T12:00:00Z  0.000019  0.178030   234603.0\n",
       "3    VIA  2018-04-10T22:00:00Z  0.000228  1.557606  9924460.0\n",
       "4    STU  2018-03-31T04:00:00Z  0.000003  0.022287   431363.0"
      ]
     },
     "execution_count": 63,
     "metadata": {},
     "output_type": "execute_result"
    }
   ],
   "source": [
    "prices_beta.head()"
   ]
  },
  {
   "cell_type": "code",
   "execution_count": 64,
   "metadata": {},
   "outputs": [
    {
     "name": "stdout",
     "output_type": "stream",
     "text": [
      "(100, 6)\n"
     ]
    }
   ],
   "source": [
    "# assign chunk numbers\n",
    "prices_betaWithChunks = markDataFrameByChunks(prices_beta,3,'ticker')\n",
    "tmpDF = prices_beta.merge(prices_betaWithChunks, left_on = 'ticker', right_on = 'colName', how = 'left')\n",
    "tmpDF.drop(['colName','theirNum'], axis = 1, inplace = True)\n",
    "print tmpDF.shape"
   ]
  },
  {
   "cell_type": "code",
   "execution_count": 66,
   "metadata": {},
   "outputs": [
    {
     "name": "stdout",
     "output_type": "stream",
     "text": [
      "30\n",
      "29\n",
      "30\n"
     ]
    }
   ],
   "source": [
    "# check chunk numbers\n",
    "dfByChunk = tmpDF.groupby('chunk')\n",
    "for name, group in dfByChunk:\n",
    "    print group.shape[0]"
   ]
  },
  {
   "cell_type": "code",
   "execution_count": 69,
   "metadata": {},
   "outputs": [],
   "source": [
    "def parallel_template(df, param1):\n",
    "    print df, param1[1].shape\n",
    "    return {'key': 1, 'value':2}"
   ]
  },
  {
   "cell_type": "code",
   "execution_count": null,
   "metadata": {},
   "outputs": [],
   "source": []
  },
  {
   "cell_type": "code",
   "execution_count": 70,
   "metadata": {},
   "outputs": [
    {
     "name": "stdout",
     "output_type": "stream",
     "text": [
      "1 (30, 3)\n",
      "1 (29, 3)\n",
      "1 (30, 3)\n",
      "defined workers\n",
      "closed pool\n",
      "CPU times: user 12.5 ms, sys: 21.4 ms, total: 33.8 ms\n",
      "Wall time: 130 ms\n"
     ]
    }
   ],
   "source": [
    "%%time\n",
    "#dfByChunk = dfByChunk.groupby('chunk')\n",
    "dfByChunk = prices_betaWithChunks.groupby('chunk')\n",
    "func = partial(parallel_template, 1)\n",
    "if __name__ == '__main__':\n",
    "    p = Pool(processes=3)\n",
    "    print 'defined workers'\n",
    "    result = (p.map(func, dfByChunk))\n",
    "    p.close()\n",
    "    try:\n",
    "        p.terminate()\n",
    "    except WindowsError:\n",
    "        pass\n",
    "    p.join()\n",
    "    #dfByChunk = None\n",
    "    print 'closed pool'\n",
    "p.terminate()"
   ]
  },
  {
   "cell_type": "code",
   "execution_count": 77,
   "metadata": {},
   "outputs": [
    {
     "name": "stdout",
     "output_type": "stream",
     "text": [
      "{'key': 1, 'value': 2}\n",
      "{'key': 1, 'value': 2}\n",
      "{'key': 1, 'value': 2}\n",
      "CPU times: user 6.75 ms, sys: 3.72 ms, total: 10.5 ms\n",
      "Wall time: 9.93 ms\n"
     ]
    }
   ],
   "source": [
    "%%time\n",
    "# unpack list with outputs\n",
    "unpackedDF = pd.DataFrame()\n",
    "for res in result:\n",
    "    print res\n",
    "    tmpDF = pd.DataFrame(res, index = range(0,1))\n",
    "    unpackedDF = pd.concat([unpackedDF, tmpDF])\n",
    "    #for subRes in res:\n",
    "    #    tmpDF = pd.DataFrame(subRes)\n",
    "    #    datesDF = pd.concat([datesDF, tmpDF])"
   ]
  },
  {
   "cell_type": "code",
   "execution_count": null,
   "metadata": {},
   "outputs": [],
   "source": []
  }
 ],
 "metadata": {
  "kernelspec": {
   "display_name": "Python 2",
   "language": "python",
   "name": "python2"
  },
  "language_info": {
   "codemirror_mode": {
    "name": "ipython",
    "version": 2
   },
   "file_extension": ".py",
   "mimetype": "text/x-python",
   "name": "python",
   "nbconvert_exporter": "python",
   "pygments_lexer": "ipython2",
   "version": "2.7.15"
  }
 },
 "nbformat": 4,
 "nbformat_minor": 2
}
