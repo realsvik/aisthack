{
 "cells": [
  {
   "cell_type": "code",
   "execution_count": 1,
   "metadata": {},
   "outputs": [],
   "source": [
    "import xgboost as xgb\n",
    "from sklearn.metrics import accuracy_score\n",
    "from sklearn.model_selection import train_test_split\n",
    "from sklearn.model_selection import cross_val_score\n",
    "from sklearn.metrics import classification_report\n"
   ]
  },
  {
   "cell_type": "code",
   "execution_count": 2,
   "metadata": {},
   "outputs": [],
   "source": [
    "from sklearn.model_selection import cross_val_score"
   ]
  },
  {
   "cell_type": "code",
   "execution_count": 3,
   "metadata": {},
   "outputs": [],
   "source": [
    "from sklearn.metrics import classification_report"
   ]
  },
  {
   "cell_type": "code",
   "execution_count": 6,
   "metadata": {},
   "outputs": [],
   "source": [
    "import pickle"
   ]
  },
  {
   "cell_type": "code",
   "execution_count": 7,
   "metadata": {},
   "outputs": [],
   "source": [
    "import pandas as pd\n",
    "from matplotlib import pyplot as plt\n",
    "%matplotlib inline\n",
    "import numpy as np\n",
    "from datetime import datetime"
   ]
  },
  {
   "cell_type": "code",
   "execution_count": 8,
   "metadata": {},
   "outputs": [],
   "source": [
    "pd.set_option('display.max_columns', None)"
   ]
  },
  {
   "cell_type": "code",
   "execution_count": 68,
   "metadata": {},
   "outputs": [],
   "source": [
    "with open('../pickles/XY_train_XY_test.pickle', 'rb') as handle:\n",
    "    b = pickle.load(handle)"
   ]
  },
  {
   "cell_type": "code",
   "execution_count": 69,
   "metadata": {},
   "outputs": [],
   "source": [
    "#tfidf_matrix_char_train,tfidf_matrix_char_test, y_train, y_test = b\n",
    "X_train, X_test, y_train, y_test = b"
   ]
  },
  {
   "cell_type": "code",
   "execution_count": 70,
   "metadata": {},
   "outputs": [
    {
     "data": {
      "text/plain": [
       "(658, 40000)"
      ]
     },
     "execution_count": 70,
     "metadata": {},
     "output_type": "execute_result"
    }
   ],
   "source": [
    "X_train.shape"
   ]
  },
  {
   "cell_type": "code",
   "execution_count": 71,
   "metadata": {},
   "outputs": [
    {
     "data": {
      "text/plain": [
       "658"
      ]
     },
     "execution_count": 71,
     "metadata": {},
     "output_type": "execute_result"
    }
   ],
   "source": [
    "len(y_train)"
   ]
  },
  {
   "cell_type": "code",
   "execution_count": 72,
   "metadata": {},
   "outputs": [
    {
     "data": {
      "text/plain": [
       "(74, 40000)"
      ]
     },
     "execution_count": 72,
     "metadata": {},
     "output_type": "execute_result"
    }
   ],
   "source": [
    "X_test.shape"
   ]
  },
  {
   "cell_type": "code",
   "execution_count": 73,
   "metadata": {},
   "outputs": [
    {
     "data": {
      "text/plain": [
       "74"
      ]
     },
     "execution_count": 73,
     "metadata": {},
     "output_type": "execute_result"
    }
   ],
   "source": [
    "len(y_test)"
   ]
  },
  {
   "cell_type": "code",
   "execution_count": 74,
   "metadata": {},
   "outputs": [
    {
     "data": {
      "text/plain": [
       "({0, 1, 2}, {0, 1, 2})"
      ]
     },
     "execution_count": 74,
     "metadata": {},
     "output_type": "execute_result"
    }
   ],
   "source": [
    "set(y_train), set(y_test)"
   ]
  },
  {
   "cell_type": "code",
   "execution_count": 75,
   "metadata": {},
   "outputs": [],
   "source": [
    "#y_train = [x+ 1 for x in y_train]"
   ]
  },
  {
   "cell_type": "code",
   "execution_count": 76,
   "metadata": {},
   "outputs": [],
   "source": [
    "#X_train, X_test, y_train, y_test = train_test_split(allOrders, y, test_size=0.33, random_state=42)"
   ]
  },
  {
   "cell_type": "code",
   "execution_count": 83,
   "metadata": {},
   "outputs": [],
   "source": [
    "from sklearn.model_selection import GridSearchCV"
   ]
  },
  {
   "cell_type": "code",
   "execution_count": 103,
   "metadata": {},
   "outputs": [
    {
     "name": "stdout",
     "output_type": "stream",
     "text": [
      "[0]\ttrain-merror:0.382967+0.0256685\ttest-merror:0.630607+0.0473142\n",
      "[1]\ttrain-merror:0.291026+0.0117702\ttest-merror:0.627577+0.047465\n",
      "[2]\ttrain-merror:0.243911+0.0132345\ttest-merror:0.609326+0.0466917\n",
      "[3]\ttrain-merror:0.21125+0.0163051\ttest-merror:0.598727+0.0276383\n",
      "[4]\ttrain-merror:0.196813+0.0155485\ttest-merror:0.566812+0.0269407\n",
      "[5]\ttrain-merror:0.183147+0.01708\ttest-merror:0.591137+0.023549\n",
      "[6]\ttrain-merror:0.170983+0.0105414\ttest-merror:0.600277+0.013841\n",
      "[7]\ttrain-merror:0.162629+0.0142772\ttest-merror:0.603328+0.00818736\n",
      "[8]\ttrain-merror:0.147434+0.0168539\ttest-merror:0.597219+0.0270759\n",
      "[9]\ttrain-merror:0.136028+0.0114851\ttest-merror:0.595697+0.0235401\n",
      "[10]\ttrain-merror:0.132997+0.0196853\ttest-merror:0.600256+0.0226269\n",
      "[11]\ttrain-merror:0.127677+0.020837\ttest-merror:0.60175+0.034573\n",
      "[12]\ttrain-merror:0.117794+0.0163551\ttest-merror:0.606296+0.0425938\n",
      "[13]\ttrain-merror:0.114753+0.0169657\ttest-merror:0.603245+0.04726\n",
      "CPU times: user 40.7 s, sys: 298 ms, total: 41 s\n",
      "Wall time: 11.3 s\n"
     ]
    }
   ],
   "source": [
    "%%time\n",
    "n_folds = 3\n",
    "early_stopping = 10\n",
    "params = {'eta': 0.02, \\\n",
    "          'max_depth': 3, \\\n",
    "          'subsample': 0.7, \\\n",
    "          'colsample_bytree': 0.7, \\\n",
    "          'objective': 'multi:softmax', \\\n",
    "          'seed': 42, \\\n",
    "          'silent': 0, \\\n",
    "          'eval_metric':'merror', \\\n",
    "          'nthread':4, \\\n",
    "          'num_class': 4}\n",
    "\n",
    "xg_train = xgb.DMatrix(X_train, label=y_train);\n",
    "\n",
    "cv = xgb.cv(params, xg_train, num_boost_round=50, nfold=n_folds, early_stopping_rounds=early_stopping, verbose_eval=1)"
   ]
  },
  {
   "cell_type": "code",
   "execution_count": 110,
   "metadata": {},
   "outputs": [
    {
     "name": "stdout",
     "output_type": "stream",
     "text": [
      "CPU times: user 50 s, sys: 42.8 ms, total: 50 s\n",
      "Wall time: 50.1 s\n"
     ]
    }
   ],
   "source": [
    "%%time\n",
    "# try model with etha 0.4, max_depth 7, min child 1, objective: 'binary:logistic'\n",
    "np.random.seed(42)\n",
    "model = xgb.XGBClassifier(learning_rate = 0.02, max_depth = 3, n_estimators=50, seed=42, objective='multi:softmax', min_child_weight=1)\n",
    "model.fit(X_train, y_train, eval_metric='merror')"
   ]
  },
  {
   "cell_type": "code",
   "execution_count": 113,
   "metadata": {},
   "outputs": [
    {
     "name": "stdout",
     "output_type": "stream",
     "text": [
      "Accuracy: 40.54%\n"
     ]
    },
    {
     "name": "stderr",
     "output_type": "stream",
     "text": [
      "/home/anna/anaconda2/lib/python2.7/site-packages/sklearn/preprocessing/label.py:151: DeprecationWarning: The truth value of an empty array is ambiguous. Returning False, but in future this will result in an error. Use `array.size > 0` to check that an array is not empty.\n",
      "  if diff:\n"
     ]
    }
   ],
   "source": [
    "y_pred = model.predict(X_test)\n",
    "predictions = [round(value) for value in y_pred]\n",
    "# evaluate predictions\n",
    "accuracy = accuracy_score(y_test, predictions)\n",
    "print(\"Accuracy: %.2f%%\" % (accuracy * 100.0))"
   ]
  },
  {
   "cell_type": "code",
   "execution_count": 115,
   "metadata": {},
   "outputs": [
    {
     "data": {
      "text/plain": [
       "[(1.0, 1),\n",
       " (2.0, 1),\n",
       " (1.0, 2),\n",
       " (1.0, 1),\n",
       " (1.0, 0),\n",
       " (2.0, 0),\n",
       " (1.0, 1),\n",
       " (1.0, 2),\n",
       " (2.0, 2),\n",
       " (2.0, 1),\n",
       " (1.0, 2),\n",
       " (2.0, 2),\n",
       " (1.0, 2),\n",
       " (1.0, 1),\n",
       " (1.0, 1),\n",
       " (1.0, 1),\n",
       " (1.0, 0),\n",
       " (1.0, 1),\n",
       " (1.0, 2),\n",
       " (1.0, 2),\n",
       " (1.0, 0),\n",
       " (1.0, 2),\n",
       " (1.0, 1),\n",
       " (1.0, 2),\n",
       " (2.0, 1),\n",
       " (1.0, 1),\n",
       " (1.0, 2),\n",
       " (2.0, 2),\n",
       " (1.0, 1),\n",
       " (1.0, 0),\n",
       " (2.0, 0),\n",
       " (1.0, 1),\n",
       " (1.0, 2),\n",
       " (1.0, 0),\n",
       " (1.0, 0),\n",
       " (1.0, 1),\n",
       " (0.0, 2),\n",
       " (2.0, 1),\n",
       " (1.0, 1),\n",
       " (1.0, 2),\n",
       " (2.0, 0),\n",
       " (1.0, 1),\n",
       " (1.0, 2),\n",
       " (2.0, 1),\n",
       " (1.0, 2),\n",
       " (1.0, 2),\n",
       " (1.0, 1),\n",
       " (1.0, 1),\n",
       " (1.0, 2),\n",
       " (2.0, 1),\n",
       " (1.0, 0),\n",
       " (1.0, 1),\n",
       " (2.0, 0),\n",
       " (1.0, 2),\n",
       " (2.0, 2),\n",
       " (1.0, 1),\n",
       " (1.0, 1),\n",
       " (2.0, 1),\n",
       " (2.0, 2),\n",
       " (2.0, 1),\n",
       " (2.0, 0),\n",
       " (2.0, 2),\n",
       " (2.0, 1),\n",
       " (2.0, 2),\n",
       " (1.0, 2),\n",
       " (1.0, 1),\n",
       " (2.0, 1),\n",
       " (1.0, 1),\n",
       " (2.0, 0),\n",
       " (2.0, 2),\n",
       " (1.0, 0),\n",
       " (2.0, 2),\n",
       " (1.0, 2),\n",
       " (2.0, 1)]"
      ]
     },
     "execution_count": 115,
     "metadata": {},
     "output_type": "execute_result"
    }
   ],
   "source": [
    "zip(predictions,y_test)"
   ]
  },
  {
   "cell_type": "code",
   "execution_count": 94,
   "metadata": {},
   "outputs": [
    {
     "data": {
      "text/plain": [
       "scipy.sparse.csr.csr_matrix"
      ]
     },
     "execution_count": 94,
     "metadata": {},
     "output_type": "execute_result"
    }
   ],
   "source": [
    "type(X_train)"
   ]
  },
  {
   "cell_type": "code",
   "execution_count": 92,
   "metadata": {},
   "outputs": [
    {
     "data": {
      "text/plain": [
       "(658, 40000)"
      ]
     },
     "execution_count": 92,
     "metadata": {},
     "output_type": "execute_result"
    }
   ],
   "source": [
    "X_train.shape"
   ]
  },
  {
   "cell_type": "code",
   "execution_count": 97,
   "metadata": {},
   "outputs": [],
   "source": [
    "y_train_df = pd.DataFrame(y_train)"
   ]
  },
  {
   "cell_type": "code",
   "execution_count": 98,
   "metadata": {},
   "outputs": [
    {
     "data": {
      "text/plain": [
       "(658, 1)"
      ]
     },
     "execution_count": 98,
     "metadata": {},
     "output_type": "execute_result"
    }
   ],
   "source": [
    "y_train_df.shape"
   ]
  },
  {
   "cell_type": "code",
   "execution_count": null,
   "metadata": {},
   "outputs": [],
   "source": []
  }
 ],
 "metadata": {
  "kernelspec": {
   "display_name": "Python 2",
   "language": "python",
   "name": "python2"
  },
  "language_info": {
   "codemirror_mode": {
    "name": "ipython",
    "version": 2
   },
   "file_extension": ".py",
   "mimetype": "text/x-python",
   "name": "python",
   "nbconvert_exporter": "python",
   "pygments_lexer": "ipython2",
   "version": "2.7.15"
  }
 },
 "nbformat": 4,
 "nbformat_minor": 2
}
