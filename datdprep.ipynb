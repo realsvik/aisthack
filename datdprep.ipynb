{
 "cells": [
  {
   "cell_type": "code",
   "execution_count": 6,
   "metadata": {},
   "outputs": [],
   "source": [
    "import pandas\n",
    "from datetime import datetime, timedelta\n",
    "import time"
   ]
  },
  {
   "cell_type": "code",
   "execution_count": 7,
   "metadata": {},
   "outputs": [],
   "source": [
    "import pickle"
   ]
  },
  {
   "cell_type": "code",
   "execution_count": 8,
   "metadata": {},
   "outputs": [],
   "source": [
    "from sklearn.externals import joblib"
   ]
  },
  {
   "cell_type": "code",
   "execution_count": 9,
   "metadata": {},
   "outputs": [],
   "source": [
    "import numpy"
   ]
  },
  {
   "cell_type": "code",
   "execution_count": 10,
   "metadata": {},
   "outputs": [],
   "source": [
    "from sklearn.model_selection import train_test_split\n",
    "from sklearn.feature_extraction.text import TfidfVectorizer\n",
    "from sklearn.linear_model import LogisticRegression\n",
    "from sklearn.ensemble import RandomForestClassifier\n",
    "from sklearn.metrics import accuracy_score, auc, roc_auc_score"
   ]
  },
  {
   "cell_type": "code",
   "execution_count": 11,
   "metadata": {},
   "outputs": [],
   "source": [
    "chats = pandas.read_csv(\"../data/train/chats_train.csv\").sort_values('timestamp')"
   ]
  },
  {
   "cell_type": "code",
   "execution_count": 12,
   "metadata": {},
   "outputs": [],
   "source": [
    "news = pandas.read_csv(\"../data/train/news_train.csv\")\n",
    "onchain_EOS = pandas.read_csv(\"../data/train/onchain/EOS_train.csv\")\n",
    "onchain_TRX = pandas.read_csv(\"../data/train/onchain/TRX_train.csv\")\n",
    "prices = pandas.read_csv(\"../data/train/tickers_train.csv\")"
   ]
  },
  {
   "cell_type": "code",
   "execution_count": 13,
   "metadata": {},
   "outputs": [],
   "source": [
    "ticker = 'TRX'\n",
    "delta = timedelta(hours=2)"
   ]
  },
  {
   "cell_type": "code",
   "execution_count": 14,
   "metadata": {},
   "outputs": [],
   "source": [
    "#Найдем максимальную и минимальную даты в файле с ценами\n",
    "min_date = datetime.today()\n",
    "max_date = datetime.fromordinal(1)\n",
    "# отфильтруем price по нашему токену и отсортируем по времени\n",
    "tic_prices = prices.loc[prices['ticker']==ticker].sort_values('datetime',ascending=True)"
   ]
  },
  {
   "cell_type": "code",
   "execution_count": 15,
   "metadata": {},
   "outputs": [],
   "source": [
    "for line in tic_prices['datetime']:\n",
    "    curtime = datetime.strptime(line,\"%Y-%m-%dT%H:%M:%SZ\")\n",
    "    if curtime > max_date:\n",
    "        max_date = curtime\n",
    "    if curtime < min_date:\n",
    "        min_date = curtime"
   ]
  },
  {
   "cell_type": "code",
   "execution_count": 16,
   "metadata": {},
   "outputs": [
    {
     "name": "stdout",
     "output_type": "stream",
     "text": [
      "(datetime.datetime(2018, 3, 1, 0, 0), datetime.datetime(2018, 4, 30, 22, 0))\n"
     ]
    }
   ],
   "source": [
    "print(min_date, max_date)"
   ]
  },
  {
   "cell_type": "code",
   "execution_count": 17,
   "metadata": {},
   "outputs": [],
   "source": [
    "Y = []\n",
    "price_index = 0\n",
    "cur_date = min_date\n",
    "last_price = tic_prices['priceBtc'].iloc[0]\n",
    "search_index = 0\n",
    "search_step = 5\n",
    "#search_width = 0.01\n",
    "search_width = 0.02\n",
    "while cur_date <= max_date:\n",
    "    cur_price = tic_prices.iloc[price_index]['priceBtc']\n",
    "    cur_y = 0\n",
    "    for i in range(search_step):\n",
    "        if price_index + i + 1 < tic_prices.shape[0]:\n",
    "            new_price = tic_prices.iloc[price_index + i + 1]['priceBtc']\n",
    "            if new_price > cur_price*(1 + search_width):\n",
    "                cur_y = 1\n",
    "                break\n",
    "            elif new_price < cur_price*(1 - search_width):\n",
    "                cur_y = 2\n",
    "                break\n",
    "    #print cur_date\n",
    "    Y.append(cur_y)\n",
    "#     price_time = datetime.strptime(cur_price['datetime'],\"%Y-%m-%dT%H:%M:%SZ\")\n",
    "#     #print(price_index, price_time,cur_date, last_price)\n",
    "#     if price_time == cur_date:\n",
    "#         Y.append(1 if cur_price['priceBtc'] < last_price else 0)\n",
    "#         last_price = cur_price['priceBtc']\n",
    "#         price_index = price_index + 1\n",
    "#     else:\n",
    "#         Y.append(0) \n",
    "    price_index = price_index + 1\n",
    "    cur_date = cur_date + delta\n"
   ]
  },
  {
   "cell_type": "code",
   "execution_count": 18,
   "metadata": {},
   "outputs": [
    {
     "data": {
      "text/plain": [
       "732"
      ]
     },
     "execution_count": 18,
     "metadata": {},
     "output_type": "execute_result"
    }
   ],
   "source": [
    "len(Y)"
   ]
  },
  {
   "cell_type": "code",
   "execution_count": 19,
   "metadata": {},
   "outputs": [],
   "source": [
    "import pickle\n",
    "output = open('../pickles/Y_trx.pickle', 'wb')\n",
    "pickle.dump(Y, output)\n",
    "output.close()"
   ]
  },
  {
   "cell_type": "code",
   "execution_count": 84,
   "metadata": {},
   "outputs": [
    {
     "name": "stdout",
     "output_type": "stream",
     "text": [
      "2018-05-01 00:00:00 2018-03-01 00:00:00\n"
     ]
    }
   ],
   "source": [
    "print cur_date, min_date"
   ]
  },
  {
   "cell_type": "code",
   "execution_count": 42,
   "metadata": {},
   "outputs": [],
   "source": [
    "#import time\n",
    "#import datetime\n",
    "#d = datetime.date(2015,1,5)\n",
    "#d= min_date + delta\n",
    "#unixtime = time.mktime(d.timetuple())\n",
    "#print unixtime"
   ]
  },
  {
   "cell_type": "code",
   "execution_count": 55,
   "metadata": {},
   "outputs": [
    {
     "name": "stdout",
     "output_type": "stream",
     "text": [
      "1519844400.0\n",
      "0\n",
      "2018-03-01 00:00:04 2018-03-01 00:00:00\n"
     ]
    },
    {
     "ename": "AttributeError",
     "evalue": "'list' object has no attribute 'copy'",
     "output_type": "error",
     "traceback": [
      "\u001b[0;31m---------------------------------------------------------------------------\u001b[0m",
      "\u001b[0;31mAttributeError\u001b[0m                            Traceback (most recent call last)",
      "\u001b[0;32m<ipython-input-55-b36d79181d47>\u001b[0m in \u001b[0;36m<module>\u001b[0;34m()\u001b[0m\n\u001b[1;32m     36\u001b[0m         \u001b[0;32mprint\u001b[0m\u001b[0;34m(\u001b[0m\u001b[0mcur_chats_counter\u001b[0m\u001b[0;34m,\u001b[0m \u001b[0mcur_date\u001b[0m\u001b[0;34m)\u001b[0m\u001b[0;34m\u001b[0m\u001b[0m\n\u001b[1;32m     37\u001b[0m         \u001b[0mmax_messages\u001b[0m \u001b[0;34m=\u001b[0m \u001b[0mcur_chats_counter\u001b[0m\u001b[0;34m\u001b[0m\u001b[0m\n\u001b[0;32m---> 38\u001b[0;31m     \u001b[0mX_raw\u001b[0m\u001b[0;34m.\u001b[0m\u001b[0mappend\u001b[0m\u001b[0;34m(\u001b[0m\u001b[0mcur_chats\u001b[0m\u001b[0;34m.\u001b[0m\u001b[0mcopy\u001b[0m\u001b[0;34m(\u001b[0m\u001b[0;34m)\u001b[0m\u001b[0;34m)\u001b[0m\u001b[0;34m\u001b[0m\u001b[0m\n\u001b[0m\u001b[1;32m     39\u001b[0m     \u001b[0mcur_chats\u001b[0m \u001b[0;34m=\u001b[0m \u001b[0;34m[\u001b[0m\u001b[0;34m]\u001b[0m\u001b[0;34m\u001b[0m\u001b[0m\n\u001b[1;32m     40\u001b[0m     \u001b[0mcur_chats_counter\u001b[0m \u001b[0;34m=\u001b[0m \u001b[0;36m0\u001b[0m\u001b[0;34m\u001b[0m\u001b[0m\n",
      "\u001b[0;31mAttributeError\u001b[0m: 'list' object has no attribute 'copy'"
     ]
    }
   ],
   "source": [
    "max_messages = 0\n",
    "chats_index = 0\n",
    "cur_chats_counter = 0\n",
    "#Пропустим все тексты, которые появились раньше, чем за 2 часа до первой котировки\n",
    "#first_text_timestamp = datetime.timestamp(min_date - delta) \n",
    "first_text_timestamp = time.mktime((min_date - delta).timetuple() )\n",
    "print first_text_timestamp\n",
    "#first_text_timestamp = datetime.timestamp(min_date - delta) \n",
    "while chats.iloc[chats_index]['timestamp'] < first_text_timestamp:\n",
    "    chats_index = chats_index + 1\n",
    "print(chats_index)\n",
    "cur_day = min_date.day\n",
    "cur_chats = []\n",
    "cur_news = []\n",
    "cur_date = min_date\n",
    "#cur_date = min_date + delta\n",
    "X_raw = []\n",
    "X = []\n",
    "while cur_date <= max_date:\n",
    "    #while (chats.iloc[chats_index]['timestamp'] < datetime.timestamp(cur_date)):\n",
    "    #while (chats.iloc[chats_index]['timestamp'] < time.mktime((cur_date).timetuple())):\n",
    "    print datetime.fromtimestamp(chats.iloc[chats_index]['timestamp']), cur_date\n",
    "    while (datetime.fromtimestamp(chats.iloc[chats_index]['timestamp']) < cur_date):\n",
    "        print \"cur_date: \", cur_date\n",
    "        if chats.iloc[chats_index]['sender_is_bot']:            \n",
    "            chats_index = chats_index + 1\n",
    "            continue\n",
    "        cur_chats.append(chats.iloc[chats_index][['chat_id', 'chat_title', 'emoji_list', 'sender_first_name', 'sender_id',\n",
    "       'sender_is_bot', 'sender_last_name', 'sender_username', 'text']])\n",
    "        chats_index = chats_index + 1\n",
    "        cur_chats_counter = cur_chats_counter + 1\n",
    "        \n",
    "        #if cur_chats_counter > 200:\n",
    "            #break\n",
    "    if max_messages < cur_chats_counter:\n",
    "        print(cur_chats_counter, cur_date)\n",
    "        max_messages = cur_chats_counter\n",
    "    X_raw.append(cur_chats.copy())\n",
    "    cur_chats = []\n",
    "    cur_chats_counter = 0\n",
    "    cur_date = cur_date + delta\n",
    "    if cur_date.day != cur_day:\n",
    "        # print(cur_date)\n",
    "        cur_day = cur_date.day"
   ]
  },
  {
   "cell_type": "code",
   "execution_count": 13,
   "metadata": {
    "scrolled": true
   },
   "outputs": [],
   "source": [
    "X = []\n",
    "for cur_X in X_raw:\n",
    "    cur_str = ''\n",
    "    for message in cur_X:\n",
    "        cur_str = cur_str + str(message['text']) + ' '\n",
    "    X.append(cur_str)"
   ]
  },
  {
   "cell_type": "code",
   "execution_count": 21,
   "metadata": {},
   "outputs": [],
   "source": [
    "# x_train, x_test, y_train, y_test = train_test_split(X, Y, test_size=0.1, random_state=40, stratify=Y)\n",
    "x_train = X[:658]\n",
    "x_test = X[659:]\n",
    "\n"
   ]
  },
  {
   "cell_type": "code",
   "execution_count": 44,
   "metadata": {},
   "outputs": [
    {
     "name": "stdout",
     "output_type": "stream",
     "text": [
      "658 73 658 73\n"
     ]
    }
   ],
   "source": [
    "y_train = Y[:658]\n",
    "y_test = Y[659:]\n",
    "print(len(x_train), len(x_test), len(y_train), len(y_test))"
   ]
  },
  {
   "cell_type": "code",
   "execution_count": 15,
   "metadata": {},
   "outputs": [
    {
     "name": "stdout",
     "output_type": "stream",
     "text": [
      "convergence after 24 epochs took 2 seconds\n",
      "0.4246575342465753\n",
      "0.9088145896656535\n"
     ]
    },
    {
     "name": "stderr",
     "output_type": "stream",
     "text": [
      "[Parallel(n_jobs=1)]: Done   1 out of   1 | elapsed:    2.5s remaining:    0.0s\n",
      "[Parallel(n_jobs=1)]: Done   1 out of   1 | elapsed:    2.5s finished\n"
     ]
    }
   ],
   "source": [
    "vectorizer_char = TfidfVectorizer(max_features=40000,\n",
    "                             min_df=5, \n",
    "                             max_df=0.5, \n",
    "                             analyzer='char', \n",
    "                             ngram_range=(1, 4))\n",
    "\n",
    "vectorizer_char.fit(x_train);\n",
    "\n",
    "tfidf_matrix_char_train = vectorizer_char.transform(x_train)\n",
    "tfidf_matrix_char_test = vectorizer_char.transform(x_test)\n",
    "\n",
    "lr_char = LogisticRegression(solver='sag', verbose=2, multi_class='multinomial')\n",
    "#lr_char = RandomForestClassifier()\n",
    "\n"
   ]
  },
  {
   "cell_type": "code",
   "execution_count": 53,
   "metadata": {},
   "outputs": [],
   "source": [
    "tfidf_matrix_char_X = vectorizer_char.transform(X)"
   ]
  },
  {
   "cell_type": "code",
   "execution_count": 45,
   "metadata": {},
   "outputs": [
    {
     "name": "stdout",
     "output_type": "stream",
     "text": [
      "convergence after 22 epochs took 3 seconds\n",
      "0.4657534246575342\n",
      "0.8753799392097265\n"
     ]
    },
    {
     "name": "stderr",
     "output_type": "stream",
     "text": [
      "[Parallel(n_jobs=1)]: Done   1 out of   1 | elapsed:    2.0s remaining:    0.0s\n",
      "[Parallel(n_jobs=1)]: Done   1 out of   1 | elapsed:    2.0s finished\n"
     ]
    }
   ],
   "source": [
    "lr_char.fit(tfidf_matrix_char_train, y_train)\n",
    "\n",
    "y_pred_char = lr_char.predict(tfidf_matrix_char_test)\n",
    "print(accuracy_score(y_test, y_pred_char))\n",
    "y_pred_train = lr_char.predict(tfidf_matrix_char_train)\n",
    "print(accuracy_score(y_train, y_pred_train))"
   ]
  },
  {
   "cell_type": "code",
   "execution_count": 50,
   "metadata": {},
   "outputs": [
    {
     "data": {
      "text/plain": [
       "['vectorizer_char.pkl']"
      ]
     },
     "execution_count": 50,
     "metadata": {},
     "output_type": "execute_result"
    }
   ],
   "source": [
    "joblib.dump(vectorizer_char, 'vectorizer_char.pkl') "
   ]
  },
  {
   "cell_type": "code",
   "execution_count": 55,
   "metadata": {},
   "outputs": [
    {
     "data": {
      "text/plain": [
       "['tfidf_matrix_char_X.pkl']"
      ]
     },
     "execution_count": 55,
     "metadata": {},
     "output_type": "execute_result"
    }
   ],
   "source": [
    "joblib.dump(tfidf_matrix_char_X, 'tfidf_matrix_char_X.pkl') "
   ]
  },
  {
   "cell_type": "code",
   "execution_count": 18,
   "metadata": {},
   "outputs": [
    {
     "name": "stdout",
     "output_type": "stream",
     "text": [
      "658 74 658 74\n"
     ]
    }
   ],
   "source": [
    "x_train, x_test, y_train, y_test = train_test_split(X, Y, test_size=0.1, random_state=40, stratify=Y)\n",
    "print(len(x_train), len(x_test), len(y_train), len(y_test))"
   ]
  },
  {
   "cell_type": "code",
   "execution_count": null,
   "metadata": {},
   "outputs": [],
   "source": [
    "with open('X_raw.pickle', 'wb') as handle:\n",
    "    pickle.dump(X_raw, handle, protocol=4)"
   ]
  },
  {
   "cell_type": "code",
   "execution_count": 99,
   "metadata": {},
   "outputs": [],
   "source": [
    "with open('XY_train_XY_test.pickle', 'wb') as handle:\n",
    "    pickle.dump([tfidf_matrix_char_train,tfidf_matrix_char_test, y_train, y_test ], handle, protocol=2)"
   ]
  },
  {
   "cell_type": "code",
   "execution_count": 48,
   "metadata": {},
   "outputs": [
    {
     "name": "stdout",
     "output_type": "stream",
     "text": [
      "[28, 5, 1] [6, 2] 73\n"
     ]
    }
   ],
   "source": [
    "acc = [0,0,0]\n",
    "acc2 = [0,0]\n",
    "for i in range (len(y_test)):\n",
    "    if y_test[i] == y_pred_char[i]:\n",
    "        acc[y_pred_char[i]] = acc[y_pred_char[i]] + 1\n",
    "    if y_test[i] != 0:\n",
    "        if y_pred_char[i] != 0:\n",
    "            if y_test[i] == y_pred_char[i]:\n",
    "                acc2[0] = acc2[0] + 1\n",
    "            else:\n",
    "                acc2[1] = acc2[1] + 1\n",
    "            \n",
    "print(acc, acc2, len(y_test))"
   ]
  },
  {
   "cell_type": "code",
   "execution_count": 41,
   "metadata": {},
   "outputs": [
    {
     "name": "stdout",
     "output_type": "stream",
     "text": [
      "[32, 23, 18] 73\n"
     ]
    }
   ],
   "source": [
    "ans = [0,0,0]\n",
    "for i in range (len(y_test)):\n",
    "    ans[y_test[i]] = ans[y_test[i]] + 1\n",
    "print(ans, len(y_test))"
   ]
  },
  {
   "cell_type": "code",
   "execution_count": 32,
   "metadata": {},
   "outputs": [
    {
     "data": {
      "text/plain": [
       "array([0, 0, 0, 1, 0, 0, 0, 0, 0, 0, 1, 0, 0, 1, 0, 1, 1, 2, 2, 2, 0, 1,\n",
       "       1, 0, 0, 1, 0, 0, 0, 0, 0, 0, 1, 0, 1, 0, 1, 0, 0, 0, 0, 2, 0, 2,\n",
       "       0, 0, 0, 0, 0, 0, 0, 0, 0, 0, 0, 0, 2, 0, 1, 0, 0, 2, 0, 0, 1, 0,\n",
       "       2, 0, 0, 0, 0, 0, 0])"
      ]
     },
     "execution_count": 32,
     "metadata": {},
     "output_type": "execute_result"
    }
   ],
   "source": [
    "y_pred_char"
   ]
  },
  {
   "cell_type": "code",
   "execution_count": 35,
   "metadata": {},
   "outputs": [
    {
     "data": {
      "text/plain": [
       "array([ 2,  2,  2,  1,  2,  2,  1,  1,  1,  1, -1,  0,  1,  0,  1,  0, -1,\n",
       "       -2, -2, -2,  0, -1, -1,  0,  0,  0,  1,  1,  1,  1,  0,  0, -1,  2,\n",
       "       -1,  1,  0,  0,  0,  0,  0, -2,  0, -2,  0,  0,  0,  0,  0,  0,  0,\n",
       "        0,  0,  0,  0,  0, -2,  0, -1,  0,  1, -1,  1,  1,  0,  2,  0,  2,\n",
       "        2,  2,  0,  0,  0])"
      ]
     },
     "execution_count": 35,
     "metadata": {},
     "output_type": "execute_result"
    }
   ],
   "source": [
    "numpy.array(y_test) - y_pred_char"
   ]
  },
  {
   "cell_type": "code",
   "execution_count": 84,
   "metadata": {},
   "outputs": [
    {
     "name": "stdout",
     "output_type": "stream",
     "text": [
      "4.140250416666666e-06 0\n",
      "4.152857083333333e-06 0\n",
      "4.143457916666667e-06 1\n",
      "4.179483333333334e-06 1\n",
      "4.151290416666667e-06 1\n",
      "4.143471666666667e-06 1\n",
      "4.233758333333332e-06 0\n",
      "4.274100000000001e-06 0\n",
      "4.247275e-06 1\n",
      "4.228935833333334e-06 1\n",
      "4.1915191666666665e-06 1\n",
      "4.263834166666667e-06 1\n",
      "4.6015245833333335e-06 1\n",
      "4.827294166666667e-06 2\n",
      "4.593007916666667e-06 2\n",
      "4.413669583333334e-06 1\n",
      "4.654349166666667e-06 1\n",
      "4.665066249999998e-06 1\n",
      "4.740495833333333e-06 0\n",
      "4.803226956521738e-06 2\n",
      "4.769809583333333e-06 2\n",
      "4.666515833333333e-06 1\n",
      "4.711197916666668e-06 2\n",
      "4.7777766666666675e-06 2\n",
      "4.6991000000000005e-06 2\n",
      "4.539133333333332e-06 2\n",
      "4.486390416666667e-06 2\n",
      "4.465064583333333e-06 2\n",
      "4.47695875e-06 2\n",
      "4.4055079166666665e-06 2\n",
      "4.2579395833333325e-06 1\n",
      "4.20390125e-06 1\n",
      "4.267279166666667e-06 1\n",
      "4.246307916666667e-06 1\n",
      "4.36995875e-06 2\n",
      "4.32069875e-06 0\n",
      "4.3077099999999984e-06 0\n",
      "4.2638720833333325e-06 0\n",
      "4.262619583333334e-06 0\n",
      "4.274446666666667e-06 0\n",
      "4.2435183333333325e-06 1\n",
      "4.27251375e-06 0\n",
      "4.3142391666666676e-06 2\n",
      "4.332440416666667e-06 2\n",
      "4.290037916666667e-06 2\n",
      "4.225819166666667e-06 0\n",
      "4.201562083333333e-06 0\n",
      "4.176387083333334e-06 2\n",
      "4.1573212500000015e-06 2\n",
      "4.150466666666667e-06 2\n"
     ]
    }
   ],
   "source": [
    "for i in range(50):\n",
    "    print(tic_prices['priceBtc'].iloc[i], Y[i])"
   ]
  },
  {
   "cell_type": "code",
   "execution_count": null,
   "metadata": {},
   "outputs": [],
   "source": []
  }
 ],
 "metadata": {
  "kernelspec": {
   "display_name": "Python 2",
   "language": "python",
   "name": "python2"
  },
  "language_info": {
   "codemirror_mode": {
    "name": "ipython",
    "version": 2
   },
   "file_extension": ".py",
   "mimetype": "text/x-python",
   "name": "python",
   "nbconvert_exporter": "python",
   "pygments_lexer": "ipython2",
   "version": "2.7.15"
  }
 },
 "nbformat": 4,
 "nbformat_minor": 2
}
